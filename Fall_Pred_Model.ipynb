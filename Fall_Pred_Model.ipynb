{
 "cells": [
  {
   "cell_type": "code",
   "execution_count": 0,
   "metadata": {
    "application/vnd.databricks.v1+cell": {
     "cellMetadata": {
      "byteLimit": 2048000,
      "rowLimit": 10000
     },
     "inputWidgets": {},
     "nuid": "986a9641-736b-49a0-af1c-b3b61d966623",
     "showTitle": false,
     "tableResultSettingsMap": {},
     "title": ""
    }
   },
   "outputs": [
    {
     "output_type": "stream",
     "name": "stdout",
     "output_type": "stream",
     "text": [
      "Collecting sktime\r\n  Using cached sktime-0.32.1-py3-none-any.whl (28.9 MB)\r\nRequirement already satisfied: scikit-learn<1.6.0,>=0.24 in /databricks/python3/lib/python3.10/site-packages (from sktime) (1.1.1)\r\nRequirement already satisfied: joblib<1.5,>=1.2.0 in /databricks/python3/lib/python3.10/site-packages (from sktime) (1.2.0)\r\nRequirement already satisfied: pandas<2.3.0,>=1.1 in /databricks/python3/lib/python3.10/site-packages (from sktime) (1.4.4)\r\nCollecting scikit-base<0.9.0,>=0.6.1\r\n  Using cached scikit_base-0.8.2-py3-none-any.whl (134 kB)\r\nRequirement already satisfied: scipy<2.0.0,>=1.2 in /databricks/python3/lib/python3.10/site-packages (from sktime) (1.9.1)\r\nRequirement already satisfied: packaging in /databricks/python3/lib/python3.10/site-packages (from sktime) (21.3)\r\nRequirement already satisfied: numpy<2.1,>=1.21 in /databricks/python3/lib/python3.10/site-packages (from sktime) (1.21.5)\r\nRequirement already satisfied: pytz>=2020.1 in /databricks/python3/lib/python3.10/site-packages (from pandas<2.3.0,>=1.1->sktime) (2022.1)\r\nRequirement already satisfied: python-dateutil>=2.8.1 in /databricks/python3/lib/python3.10/site-packages (from pandas<2.3.0,>=1.1->sktime) (2.8.2)\r\nRequirement already satisfied: threadpoolctl>=2.0.0 in /databricks/python3/lib/python3.10/site-packages (from scikit-learn<1.6.0,>=0.24->sktime) (2.2.0)\r\nRequirement already satisfied: pyparsing!=3.0.5,>=2.0.2 in /databricks/python3/lib/python3.10/site-packages (from packaging->sktime) (3.0.9)\r\nRequirement already satisfied: six>=1.5 in /usr/lib/python3/dist-packages (from python-dateutil>=2.8.1->pandas<2.3.0,>=1.1->sktime) (1.16.0)\r\nInstalling collected packages: scikit-base, sktime\r\nSuccessfully installed scikit-base-0.8.2 sktime-0.32.1\r\n\r\n\u001B[1m[\u001B[0m\u001B[34;49mnotice\u001B[0m\u001B[1;39;49m]\u001B[0m\u001B[39;49m A new release of pip available: \u001B[0m\u001B[31;49m22.2.2\u001B[0m\u001B[39;49m -> \u001B[0m\u001B[32;49m24.2\u001B[0m\r\n\u001B[1m[\u001B[0m\u001B[34;49mnotice\u001B[0m\u001B[1;39;49m]\u001B[0m\u001B[39;49m To update, run: \u001B[0m\u001B[32;49mpip install --upgrade pip\u001B[0m\r\nRequirement already satisfied: scikit-learn in /databricks/python3/lib/python3.10/site-packages (1.1.1)\r\nRequirement already satisfied: threadpoolctl>=2.0.0 in /databricks/python3/lib/python3.10/site-packages (from scikit-learn) (2.2.0)\r\nRequirement already satisfied: joblib>=1.0.0 in /databricks/python3/lib/python3.10/site-packages (from scikit-learn) (1.2.0)\r\nRequirement already satisfied: numpy>=1.17.3 in /databricks/python3/lib/python3.10/site-packages (from scikit-learn) (1.21.5)\r\nRequirement already satisfied: scipy>=1.3.2 in /databricks/python3/lib/python3.10/site-packages (from scikit-learn) (1.9.1)\r\n\r\n\u001B[1m[\u001B[0m\u001B[34;49mnotice\u001B[0m\u001B[1;39;49m]\u001B[0m\u001B[39;49m A new release of pip available: \u001B[0m\u001B[31;49m22.2.2\u001B[0m\u001B[39;49m -> \u001B[0m\u001B[32;49m24.2\u001B[0m\r\n\u001B[1m[\u001B[0m\u001B[34;49mnotice\u001B[0m\u001B[1;39;49m]\u001B[0m\u001B[39;49m To update, run: \u001B[0m\u001B[32;49mpip install --upgrade pip\u001B[0m\r\nCollecting optuna\r\n  Using cached optuna-3.6.1-py3-none-any.whl (380 kB)\r\nRequirement already satisfied: PyYAML in /databricks/python3/lib/python3.10/site-packages (from optuna) (6.0)\r\nRequirement already satisfied: tqdm in /databricks/python3/lib/python3.10/site-packages (from optuna) (4.64.1)\r\nRequirement already satisfied: numpy in /databricks/python3/lib/python3.10/site-packages (from optuna) (1.21.5)\r\nCollecting colorlog\r\n  Using cached colorlog-6.8.2-py3-none-any.whl (11 kB)\r\nCollecting alembic>=1.5.0\r\n  Using cached alembic-1.13.2-py3-none-any.whl (232 kB)\r\nRequirement already satisfied: sqlalchemy>=1.3.0 in /databricks/python3/lib/python3.10/site-packages (from optuna) (1.4.39)\r\nRequirement already satisfied: packaging>=20.0 in /databricks/python3/lib/python3.10/site-packages (from optuna) (21.3)\r\nRequirement already satisfied: typing-extensions>=4 in /databricks/python3/lib/python3.10/site-packages (from alembic>=1.5.0->optuna) (4.3.0)\r\nRequirement already satisfied: Mako in /databricks/python3/lib/python3.10/site-packages (from alembic>=1.5.0->optuna) (1.2.0)\r\nRequirement already satisfied: pyparsing!=3.0.5,>=2.0.2 in /databricks/python3/lib/python3.10/site-packages (from packaging>=20.0->optuna) (3.0.9)\r\nRequirement already satisfied: greenlet!=0.4.17 in /databricks/python3/lib/python3.10/site-packages (from sqlalchemy>=1.3.0->optuna) (1.1.1)\r\nRequirement already satisfied: MarkupSafe>=0.9.2 in /databricks/python3/lib/python3.10/site-packages (from Mako->alembic>=1.5.0->optuna) (2.0.1)\r\nInstalling collected packages: colorlog, alembic, optuna\r\nSuccessfully installed alembic-1.13.2 colorlog-6.8.2 optuna-3.6.1\r\n\r\n\u001B[1m[\u001B[0m\u001B[34;49mnotice\u001B[0m\u001B[1;39;49m]\u001B[0m\u001B[39;49m A new release of pip available: \u001B[0m\u001B[31;49m22.2.2\u001B[0m\u001B[39;49m -> \u001B[0m\u001B[32;49m24.2\u001B[0m\r\n\u001B[1m[\u001B[0m\u001B[34;49mnotice\u001B[0m\u001B[1;39;49m]\u001B[0m\u001B[39;49m To update, run: \u001B[0m\u001B[32;49mpip install --upgrade pip\u001B[0m\r\n"
     ]
    }
   ],
   "source": [
    "#Import libraries\n",
    "import pandas as pd\n",
    "import numpy as np\n",
    "import mlflow\n",
    "import optuna\n",
    "import joblib\n",
    "\n",
    "from sktime.classification.kernel_based import RocketClassifier\n",
    "from sktime.transformations.panel.rocket import Rocket\n",
    "from sktime.pipeline import make_pipeline\n",
    "from sktime.datatypes import mtype, check_is_mtype, get_examples, convert\n",
    "\n",
    "from sklearn.model_selection import train_test_split\n",
    "from sklearn.metrics import accuracy_score, confusion_matrix, auc, roc_curve, roc_auc_score, precision_recall_curve, jaccard_score, f1_score\n",
    "from sklearn.linear_model import LogisticRegression, SGDClassifier\n",
    "\n",
    "import matplotlib.pyplot as plt"
   ]
  },
  {
   "cell_type": "markdown",
   "metadata": {
    "application/vnd.databricks.v1+cell": {
     "cellMetadata": {
      "byteLimit": 2048000,
      "rowLimit": 10000
     },
     "inputWidgets": {},
     "nuid": "ceef038f-a9ac-4244-bc62-5132f94b4010",
     "showTitle": false,
     "tableResultSettingsMap": {},
     "title": ""
    }
   },
   "source": [
    "## Preprocess"
   ]
  },
  {
   "cell_type": "code",
   "execution_count": 0,
   "metadata": {
    "application/vnd.databricks.v1+cell": {
     "cellMetadata": {
      "byteLimit": 2048000,
      "rowLimit": 10000
     },
     "inputWidgets": {},
     "nuid": "89ca52c7-85f9-4bdd-bb01-7dc9e151da69",
     "showTitle": false,
     "tableResultSettingsMap": {},
     "title": ""
    }
   },
   "outputs": [
    {
     "output_type": "stream",
     "name": "stderr",
     "output_type": "stream",
     "text": [
      "/databricks/spark/python/pyspark/sql/pandas/utils.py:105: UserWarning: The conversion of DecimalType columns is inefficient and may take a long time. Column names: [ServiceConnectedPercent] If those columns are not necessary, you may consider dropping them or converting to primitive types before the conversion.\n  warnings.warn(\n"
     ]
    }
   ],
   "source": [
    "#Read in data from SQL table\n",
    "df_temp = sql('SELECT * FROM df').toPandas()"
   ]
  },
  {
   "cell_type": "code",
   "execution_count": 0,
   "metadata": {
    "application/vnd.databricks.v1+cell": {
     "cellMetadata": {
      "byteLimit": 2048000,
      "rowLimit": 10000
     },
     "inputWidgets": {},
     "nuid": "49d06bd0-bb6c-42ad-ad7d-d8918453d2e5",
     "showTitle": false,
     "tableResultSettingsMap": {},
     "title": ""
    }
   },
   "outputs": [
    {
     "output_type": "stream",
     "name": "stdout",
     "output_type": "stream",
     "text": [
      "(Time                        1699908\nfallduringeoc               1699908\nage                         1699908\nGender                      1699908\nhxfall                      1699908\n                             ...   \nPROTEIN                     1699908\nRBC                         1699908\nSODIUM_lab                  1699908\nUREA_NITROGEN/CREATININE    1699908\nWBC                         1699908\nLength: 325, dtype: int64, 325)\n"
     ]
    }
   ],
   "source": [
    "#Obtain count of each variable, ensure consistent\n",
    "print((df_temp.count(),len(df_temp.columns))) "
   ]
  },
  {
   "cell_type": "code",
   "execution_count": 0,
   "metadata": {
    "application/vnd.databricks.v1+cell": {
     "cellMetadata": {
      "byteLimit": 2048000,
      "rowLimit": 10000
     },
     "inputWidgets": {},
     "nuid": "2664e920-6e56-4579-9921-8a046ae29f57",
     "showTitle": false,
     "tableResultSettingsMap": {},
     "title": ""
    }
   },
   "outputs": [],
   "source": [
    "#Remove initial index, and sort variables for multi-idex set\n",
    "df_temp.drop(['Date'],axis=1,inplace=True)\n",
    "\n",
    "df_temp = df_temp.sort_values(['Pt_ID','Time'])"
   ]
  },
  {
   "cell_type": "code",
   "execution_count": 0,
   "metadata": {
    "application/vnd.databricks.v1+cell": {
     "cellMetadata": {
      "byteLimit": 2048000,
      "rowLimit": 10000
     },
     "inputWidgets": {},
     "nuid": "038cd786-a38b-4ae6-9b1b-2af13bd6d16d",
     "showTitle": false,
     "tableResultSettingsMap": {},
     "title": ""
    }
   },
   "outputs": [],
   "source": [
    "#Copy to manipulate\n",
    "df_final = df_temp.copy()"
   ]
  },
  {
   "cell_type": "code",
   "execution_count": 0,
   "metadata": {
    "application/vnd.databricks.v1+cell": {
     "cellMetadata": {
      "byteLimit": 2048000,
      "rowLimit": 10000
     },
     "inputWidgets": {},
     "nuid": "5e6b41bd-a407-4a6e-9675-56ad4c391c44",
     "showTitle": false,
     "tableResultSettingsMap": {},
     "title": ""
    }
   },
   "outputs": [],
   "source": [
    "#Remove duplicates and drop Fall_Status \n",
    "df_classes = df_final.drop_duplicates(subset=['Pt_ID','Fall_Status'])\n",
    "\n",
    "df_final = df_final.drop('Fall_Status',axis=1)"
   ]
  },
  {
   "cell_type": "code",
   "execution_count": 0,
   "metadata": {
    "application/vnd.databricks.v1+cell": {
     "cellMetadata": {
      "byteLimit": 2048000,
      "rowLimit": 10000
     },
     "inputWidgets": {},
     "nuid": "fe464d21-1cbf-4d6c-b9ef-d978b3931045",
     "showTitle": false,
     "tableResultSettingsMap": {},
     "title": ""
    }
   },
   "outputs": [],
   "source": [
    "#Update for multiindex & set to numeric\n",
    "df_final.set_index(['Pt_ID','Time'],inplace=True)\n",
    "\n",
    "df_final = df_final.apply(pd.to_numeric)"
   ]
  },
  {
   "cell_type": "code",
   "execution_count": 0,
   "metadata": {
    "application/vnd.databricks.v1+cell": {
     "cellMetadata": {
      "byteLimit": 2048000,
      "rowLimit": 10000
     },
     "inputWidgets": {},
     "nuid": "618398b1-e4cb-40b1-ba69-10b4b2b7598a",
     "showTitle": false,
     "tableResultSettingsMap": {},
     "title": ""
    }
   },
   "outputs": [
    {
     "output_type": "execute_result",
     "data": {
      "text/plain": [
       "True"
      ]
     },
     "execution_count": 17,
     "metadata": {},
     "output_type": "execute_result"
    }
   ],
   "source": [
    "#Verify data structure before modeling\n",
    "check_is_mtype(df_final,mtype='pd-multiindex',scitype=\"Panel\",msg_return_dict='dict')"
   ]
  },
  {
   "cell_type": "code",
   "execution_count": 0,
   "metadata": {
    "application/vnd.databricks.v1+cell": {
     "cellMetadata": {
      "byteLimit": 2048000,
      "rowLimit": 10000
     },
     "inputWidgets": {},
     "nuid": "9d700ac2-bf2b-45d3-9498-590701e7ca95",
     "showTitle": false,
     "tableResultSettingsMap": {},
     "title": ""
    }
   },
   "outputs": [],
   "source": [
    "#Set Index\n",
    "df_classes.set_index('Pt_ID',inplace=True)"
   ]
  },
  {
   "cell_type": "code",
   "execution_count": 0,
   "metadata": {
    "application/vnd.databricks.v1+cell": {
     "cellMetadata": {
      "byteLimit": 2048000,
      "rowLimit": 10000
     },
     "inputWidgets": {},
     "nuid": "aa5064cf-fba1-4463-8542-b9562d377b67",
     "showTitle": false,
     "tableResultSettingsMap": {},
     "title": ""
    }
   },
   "outputs": [],
   "source": [
    "#Establish train/val/test ratios\n",
    "train_ratio = 0.7\n",
    "val_ratio = 0.2\n",
    "test_ratio = 0.1\n",
    "\n",
    "train_ix, test_ix = train_test_split(df_final.index.levels[0],random_state = 123, test_size = 1 - train_ratio)\n",
    "val_ix, test_ix = train_test_split(test_ix, random_state= 123, test_size = test_ratio/(test_ratio + val_ratio))"
   ]
  },
  {
   "cell_type": "code",
   "execution_count": 0,
   "metadata": {
    "application/vnd.databricks.v1+cell": {
     "cellMetadata": {
      "byteLimit": 2048000,
      "rowLimit": 10000
     },
     "inputWidgets": {},
     "nuid": "73705ac1-169c-4aca-98b8-e41e344695dc",
     "showTitle": false,
     "tableResultSettingsMap": {},
     "title": ""
    }
   },
   "outputs": [],
   "source": [
    "X_train = df_final.loc[train_ix]\n",
    "X_val = df_final.loc[val_ix]\n",
    "X_test = df_final.loc[test_ix]\n",
    "  \n",
    "y_train = np.array(df_classes.loc[train_ix]['Fall_Status'])\n",
    "y_val = np.array(df_classes.loc[val_ix]['Fall_Status'])\n",
    "y_test = np.array(df_classes.loc[test_ix]['Fall_Status'])"
   ]
  },
  {
   "cell_type": "code",
   "execution_count": 0,
   "metadata": {
    "application/vnd.databricks.v1+cell": {
     "cellMetadata": {
      "byteLimit": 2048000,
      "rowLimit": 10000
     },
     "inputWidgets": {},
     "nuid": "02645249-8167-42ed-9f52-45f48618ca08",
     "showTitle": false,
     "tableResultSettingsMap": {},
     "title": ""
    }
   },
   "outputs": [
    {
     "output_type": "execute_result",
     "data": {
      "text/html": [
       "<div>\n",
       "<style scoped>\n",
       "    .dataframe tbody tr th:only-of-type {\n",
       "        vertical-align: middle;\n",
       "    }\n",
       "\n",
       "    .dataframe tbody tr th {\n",
       "        vertical-align: top;\n",
       "    }\n",
       "\n",
       "    .dataframe thead th {\n",
       "        text-align: right;\n",
       "    }\n",
       "</style>\n",
       "<table border=\"1\" class=\"dataframe\">\n",
       "  <thead>\n",
       "    <tr style=\"text-align: right;\">\n",
       "      <th></th>\n",
       "      <th>fallduringeoc</th>\n",
       "      <th>Count</th>\n",
       "      <th>Prop</th>\n",
       "    </tr>\n",
       "  </thead>\n",
       "  <tbody>\n",
       "    <tr>\n",
       "      <th>0</th>\n",
       "      <td>0</td>\n",
       "      <td>236879</td>\n",
       "      <td>0.975437</td>\n",
       "    </tr>\n",
       "    <tr>\n",
       "      <th>1</th>\n",
       "      <td>1</td>\n",
       "      <td>5965</td>\n",
       "      <td>0.024563</td>\n",
       "    </tr>\n",
       "  </tbody>\n",
       "</table>\n",
       "</div>"
      ],
      "text/plain": [
       "   fallduringeoc   Count      Prop\n",
       "0              0  236879  0.975437\n",
       "1              1    5965  0.024563"
      ]
     },
     "execution_count": 23,
     "metadata": {},
     "output_type": "execute_result"
    }
   ],
   "source": [
    "#Obtain counts \n",
    "f_cnts = df_classes.groupby('Fall_Status').size().reset_index(name='Count')\n",
    "\n",
    "total_cnt = len(df_classes)\n",
    "f_cnts['Prop'] = f_cnts['Count']/total_cnt\n",
    "f_cnts"
   ]
  },
  {
   "cell_type": "code",
   "execution_count": 0,
   "metadata": {
    "application/vnd.databricks.v1+cell": {
     "cellMetadata": {
      "byteLimit": 2048000,
      "rowLimit": 10000
     },
     "inputWidgets": {},
     "nuid": "74d00c26-9a48-4b68-8e61-3d123691cde9",
     "showTitle": false,
     "tableResultSettingsMap": {},
     "title": ""
    }
   },
   "outputs": [
    {
     "output_type": "execute_result",
     "data": {
      "text/plain": [
       "set()"
      ]
     },
     "execution_count": 29,
     "metadata": {},
     "output_type": "execute_result"
    }
   ],
   "source": [
    "set(y_train) - set(y_test) #Verify no differences in structure "
   ]
  },
  {
   "cell_type": "markdown",
   "metadata": {
    "application/vnd.databricks.v1+cell": {
     "cellMetadata": {
      "byteLimit": 2048000,
      "rowLimit": 10000
     },
     "inputWidgets": {},
     "nuid": "9745dd88-87e6-4472-9cd8-2b0afe5b96fc",
     "showTitle": false,
     "tableResultSettingsMap": {},
     "title": ""
    }
   },
   "source": [
    "## ROCKET"
   ]
  },
  {
   "cell_type": "markdown",
   "metadata": {
    "application/vnd.databricks.v1+cell": {
     "cellMetadata": {},
     "inputWidgets": {},
     "nuid": "24ed3ff7-d254-452c-a027-a740c0635bfe",
     "showTitle": false,
     "tableResultSettingsMap": {},
     "title": ""
    }
   },
   "source": [
    "### Base ROCKET"
   ]
  },
  {
   "cell_type": "code",
   "execution_count": 0,
   "metadata": {
    "application/vnd.databricks.v1+cell": {
     "cellMetadata": {
      "byteLimit": 2048000,
      "rowLimit": 10000
     },
     "inputWidgets": {},
     "nuid": "d502e6f1-bdab-4c29-8694-1d88579bd54d",
     "showTitle": false,
     "tableResultSettingsMap": {},
     "title": ""
    }
   },
   "outputs": [
    {
     "output_type": "display_data",
     "data": {
      "text/html": [
       "<style scoped>\n",
       "  .ansiout {\n",
       "    display: block;\n",
       "    unicode-bidi: embed;\n",
       "    white-space: pre-wrap;\n",
       "    word-wrap: break-word;\n",
       "    word-break: break-all;\n",
       "    font-family: \"Menlo\", \"Monaco\", \"Consolas\", \"Ubuntu Mono\", \"Source Code Pro\", monospace;\n",
       "    font-size: 13px;\n",
       "    color: #555;\n",
       "    margin-left: 4px;\n",
       "    line-height: 19px;\n",
       "  }\n",
       "</style>"
      ]
     },
     "metadata": {
      "application/vnd.databricks.v1+output": {
       "arguments": {},
       "data": "",
       "errorSummary": "Cancelled",
       "errorTraceType": "html",
       "metadata": {},
       "type": "ipynbError"
      }
     },
     "output_type": "display_data"
    }
   ],
   "source": [
    "#Base Rocket model\n",
    "rocket = RocketClassifier(num_kernels=10000,\n",
    "                          use_multivariate = 'auto',\n",
    "                          n_jobs = 1,\n",
    "                          random_state = 123,\n",
    "                          #rocket_transform = 'multirocket'\n",
    "                          )\n",
    "\n",
    "#pipe_sktime = square * rocket\n",
    "rkt_sktime = rocket\n",
    "rkt_sktime.fit(X_train,y_train)"
   ]
  },
  {
   "cell_type": "code",
   "execution_count": 0,
   "metadata": {
    "application/vnd.databricks.v1+cell": {
     "cellMetadata": {
      "byteLimit": 2048000,
      "rowLimit": 10000
     },
     "inputWidgets": {},
     "nuid": "f1fe57fd-d601-4cf0-8250-26c6c1bfb079",
     "showTitle": false,
     "tableResultSettingsMap": {},
     "title": ""
    }
   },
   "outputs": [],
   "source": [
    "from sktime.utils import mlflow_sktime\n",
    "file_path = 'path_to_file'\n",
    "\n",
    "#Save via sklearn\n",
    "#mlflow_sktime.save_model(sktime_model = pipe_sktime,path = file_path)\n",
    "#mlflow.sklearn.save_model(rkt_sktime,file_path)"
   ]
  },
  {
   "cell_type": "markdown",
   "metadata": {
    "application/vnd.databricks.v1+cell": {
     "cellMetadata": {},
     "inputWidgets": {},
     "nuid": "53261817-e0cc-42c5-a5e7-6a044c6e0a2a",
     "showTitle": false,
     "tableResultSettingsMap": {},
     "title": ""
    }
   },
   "source": [
    "### SGD Pipeline"
   ]
  },
  {
   "cell_type": "code",
   "execution_count": 0,
   "metadata": {
    "application/vnd.databricks.v1+cell": {
     "cellMetadata": {
      "byteLimit": 2048000,
      "rowLimit": 10000
     },
     "inputWidgets": {},
     "nuid": "223790d3-c975-4859-964e-fbfe8541fe69",
     "showTitle": false,
     "tableResultSettingsMap": {},
     "title": ""
    }
   },
   "outputs": [],
   "source": [
    "#Rocket Using SGD as Classifier\n",
    "rocket_SGD_pipeline = make_pipeline(\n",
    "  Rocket(random_state = 123),\n",
    "  SGDClassifier(loss='log_loss',random_state = 123) #Base model\n",
    "  #SGDClassifier(loss='log_loss', random_state = 123, class_weight = 'balanced', learning_rate = 'constant', eta0 = 0.1)\n",
    ")"
   ]
  },
  {
   "cell_type": "code",
   "execution_count": 0,
   "metadata": {
    "application/vnd.databricks.v1+cell": {
     "cellMetadata": {
      "byteLimit": 2048000,
      "rowLimit": 10000
     },
     "inputWidgets": {},
     "nuid": "5f446a22-68de-4d18-a536-ba343035a1d7",
     "showTitle": false,
     "tableResultSettingsMap": {},
     "title": ""
    }
   },
   "outputs": [
    {
     "output_type": "execute_result",
     "data": {
      "text/html": [
       "<style>#sk-98827f00-20e2-4e62-8b88-a4fd4703abc3 {color: black;background-color: white;}#sk-98827f00-20e2-4e62-8b88-a4fd4703abc3 pre{padding: 0;}#sk-98827f00-20e2-4e62-8b88-a4fd4703abc3 div.sk-toggleable {background-color: white;}#sk-98827f00-20e2-4e62-8b88-a4fd4703abc3 label.sk-toggleable__label {cursor: pointer;display: block;width: 100%;margin-bottom: 0;padding: 0.3em;box-sizing: border-box;text-align: center;}#sk-98827f00-20e2-4e62-8b88-a4fd4703abc3 label.sk-toggleable__label-arrow:before {content: \"▸\";float: left;margin-right: 0.25em;color: #696969;}#sk-98827f00-20e2-4e62-8b88-a4fd4703abc3 label.sk-toggleable__label-arrow:hover:before {color: black;}#sk-98827f00-20e2-4e62-8b88-a4fd4703abc3 div.sk-estimator:hover label.sk-toggleable__label-arrow:before {color: black;}#sk-98827f00-20e2-4e62-8b88-a4fd4703abc3 div.sk-toggleable__content {max-height: 0;max-width: 0;overflow: hidden;text-align: left;background-color: #f0f8ff;}#sk-98827f00-20e2-4e62-8b88-a4fd4703abc3 div.sk-toggleable__content pre {margin: 0.2em;color: black;border-radius: 0.25em;background-color: #f0f8ff;}#sk-98827f00-20e2-4e62-8b88-a4fd4703abc3 input.sk-toggleable__control:checked~div.sk-toggleable__content {max-height: 200px;max-width: 100%;overflow: auto;}#sk-98827f00-20e2-4e62-8b88-a4fd4703abc3 input.sk-toggleable__control:checked~label.sk-toggleable__label-arrow:before {content: \"▾\";}#sk-98827f00-20e2-4e62-8b88-a4fd4703abc3 div.sk-estimator input.sk-toggleable__control:checked~label.sk-toggleable__label {background-color: #d4ebff;}#sk-98827f00-20e2-4e62-8b88-a4fd4703abc3 div.sk-label input.sk-toggleable__control:checked~label.sk-toggleable__label {background-color: #d4ebff;}#sk-98827f00-20e2-4e62-8b88-a4fd4703abc3 input.sk-hidden--visually {border: 0;clip: rect(1px 1px 1px 1px);clip: rect(1px, 1px, 1px, 1px);height: 1px;margin: -1px;overflow: hidden;padding: 0;position: absolute;width: 1px;}#sk-98827f00-20e2-4e62-8b88-a4fd4703abc3 div.sk-estimator {font-family: monospace;background-color: #f0f8ff;border: 1px dotted black;border-radius: 0.25em;box-sizing: border-box;margin-bottom: 0.5em;}#sk-98827f00-20e2-4e62-8b88-a4fd4703abc3 div.sk-estimator:hover {background-color: #d4ebff;}#sk-98827f00-20e2-4e62-8b88-a4fd4703abc3 div.sk-parallel-item::after {content: \"\";width: 100%;border-bottom: 1px solid gray;flex-grow: 1;}#sk-98827f00-20e2-4e62-8b88-a4fd4703abc3 div.sk-label:hover label.sk-toggleable__label {background-color: #d4ebff;}#sk-98827f00-20e2-4e62-8b88-a4fd4703abc3 div.sk-serial::before {content: \"\";position: absolute;border-left: 1px solid gray;box-sizing: border-box;top: 2em;bottom: 0;left: 50%;}#sk-98827f00-20e2-4e62-8b88-a4fd4703abc3 div.sk-serial {display: flex;flex-direction: column;align-items: center;background-color: white;padding-right: 0.2em;padding-left: 0.2em;}#sk-98827f00-20e2-4e62-8b88-a4fd4703abc3 div.sk-item {z-index: 1;}#sk-98827f00-20e2-4e62-8b88-a4fd4703abc3 div.sk-parallel {display: flex;align-items: stretch;justify-content: center;background-color: white;}#sk-98827f00-20e2-4e62-8b88-a4fd4703abc3 div.sk-parallel::before {content: \"\";position: absolute;border-left: 1px solid gray;box-sizing: border-box;top: 2em;bottom: 0;left: 50%;}#sk-98827f00-20e2-4e62-8b88-a4fd4703abc3 div.sk-parallel-item {display: flex;flex-direction: column;position: relative;background-color: white;}#sk-98827f00-20e2-4e62-8b88-a4fd4703abc3 div.sk-parallel-item:first-child::after {align-self: flex-end;width: 50%;}#sk-98827f00-20e2-4e62-8b88-a4fd4703abc3 div.sk-parallel-item:last-child::after {align-self: flex-start;width: 50%;}#sk-98827f00-20e2-4e62-8b88-a4fd4703abc3 div.sk-parallel-item:only-child::after {width: 0;}#sk-98827f00-20e2-4e62-8b88-a4fd4703abc3 div.sk-dashed-wrapped {border: 1px dashed gray;margin: 0 0.4em 0.5em 0.4em;box-sizing: border-box;padding-bottom: 0.4em;background-color: white;position: relative;}#sk-98827f00-20e2-4e62-8b88-a4fd4703abc3 div.sk-label label {font-family: monospace;font-weight: bold;background-color: white;display: inline-block;line-height: 1.2em;}#sk-98827f00-20e2-4e62-8b88-a4fd4703abc3 div.sk-label-container {position: relative;z-index: 2;text-align: center;}#sk-98827f00-20e2-4e62-8b88-a4fd4703abc3 div.sk-container {/* jupyter's `normalize.less` sets `[hidden] { display: none; }` but bootstrap.min.css set `[hidden] { display: none !important; }` so we also need the `!important` here to be able to override the default hidden behavior on the sphinx rendered scikit-learn.org. See: https://github.com/scikit-learn/scikit-learn/issues/21755 */display: inline-block !important;position: relative;}#sk-98827f00-20e2-4e62-8b88-a4fd4703abc3 div.sk-text-repr-fallback {display: none;}</style><div id='sk-98827f00-20e2-4e62-8b88-a4fd4703abc3' class=\"sk-top-container\"><div class=\"sk-text-repr-fallback\"><pre>SklearnClassifierPipeline(classifier=SGDClassifier(loss=&#x27;log_loss&#x27;, random_state=123),\n",
       "                          transformers=[Rocket(random_state=123)])</pre><b>Please rerun this cell to show the HTML repr or trust the notebook.</b></div><div class=\"sk-container\" hidden><div class=\"sk-item sk-dashed-wrapped\"><div class='sk-label-container'><div class=\"sk-label sk-toggleable\"><input class=\"sk-toggleable__control sk-hidden--visually\" id=UUID('8136a1a1-02bb-4af1-8392-83c25266c118') type=\"checkbox\" ><label for=UUID('8136a1a1-02bb-4af1-8392-83c25266c118') class='sk-toggleable__label sk-toggleable__label-arrow'>SklearnClassifierPipeline</label><div class=\"sk-toggleable__content\"><pre>SklearnClassifierPipeline(classifier=SGDClassifier(loss=&#x27;log_loss&#x27;, random_state=123),\n",
       "                          transformers=[Rocket(random_state=123)])</pre></div></div></div><div class=\"sk-parallel\"><div class=\"sk-parallel-item\"><div class=\"sk-item\"><div class=\"sk-serial\"><div class='sk-item'><div class=\"sk-estimator sk-toggleable\"><input class=\"sk-toggleable__control sk-hidden--visually\" id=UUID('dd934395-b48a-4699-b629-6b27b8c73121') type=\"checkbox\" ><label for=UUID('dd934395-b48a-4699-b629-6b27b8c73121') class='sk-toggleable__label sk-toggleable__label-arrow'>SGDClassifier</label><div class=\"sk-toggleable__content\"><pre>SGDClassifier(loss=&#x27;log_loss&#x27;, random_state=123)</pre></div></div></div></div></div></div><div class=\"sk-parallel-item\"><div class=\"sk-item\"><div class=\"sk-serial\"><div class='sk-item'><div class=\"sk-estimator sk-toggleable\"><input class=\"sk-toggleable__control sk-hidden--visually\" id=UUID('659416c8-a97a-4f29-ac54-702d0679d420') type=\"checkbox\" ><label for=UUID('659416c8-a97a-4f29-ac54-702d0679d420') class='sk-toggleable__label sk-toggleable__label-arrow'>Rocket</label><div class=\"sk-toggleable__content\"><pre>Rocket(random_state=123)</pre></div></div></div></div></div></div></div></div></div></div>"
      ],
      "text/plain": [
       "SklearnClassifierPipeline(classifier=SGDClassifier(loss='log_loss', random_state=123),\n",
       "                          transformers=[Rocket(random_state=123)])"
      ]
     },
     "execution_count": 21,
     "metadata": {},
     "output_type": "execute_result"
    }
   ],
   "source": [
    "rocket_SGD_pipeline.fit(X_train,y_train)"
   ]
  },
  {
   "cell_type": "code",
   "execution_count": 0,
   "metadata": {
    "application/vnd.databricks.v1+cell": {
     "cellMetadata": {},
     "inputWidgets": {},
     "nuid": "9ffaba0f-8309-49a8-aa63-f916c13e2cac",
     "showTitle": false,
     "tableResultSettingsMap": {},
     "title": ""
    }
   },
   "outputs": [],
   "source": [
    "from sktime.utils import mlflow_sktime\n",
    "file_path = 'path_to_file' #Rocket with SGD\n",
    "\n",
    "#Save via sklearn\n",
    "mlflow.sklearn.save_model(rocket_SGD_pipeline,file_path)"
   ]
  },
  {
   "cell_type": "markdown",
   "metadata": {
    "application/vnd.databricks.v1+cell": {
     "cellMetadata": {},
     "inputWidgets": {},
     "nuid": "190cf501-b4eb-43d2-80b0-efe7467df04b",
     "showTitle": false,
     "tableResultSettingsMap": {},
     "title": ""
    }
   },
   "source": [
    "### LGBM Pipeline"
   ]
  },
  {
   "cell_type": "code",
   "execution_count": 0,
   "metadata": {
    "application/vnd.databricks.v1+cell": {
     "cellMetadata": {
      "byteLimit": 2048000,
      "rowLimit": 10000
     },
     "inputWidgets": {},
     "nuid": "6630ada6-8fad-465e-a914-ce1a25b120ef",
     "showTitle": false,
     "tableResultSettingsMap": {},
     "title": ""
    }
   },
   "outputs": [
    {
     "output_type": "execute_result",
     "data": {
      "text/html": [
       "<style>#sk-2148be40-2f84-4fe0-b341-eb9e11853fb0 {color: black;background-color: white;}#sk-2148be40-2f84-4fe0-b341-eb9e11853fb0 pre{padding: 0;}#sk-2148be40-2f84-4fe0-b341-eb9e11853fb0 div.sk-toggleable {background-color: white;}#sk-2148be40-2f84-4fe0-b341-eb9e11853fb0 label.sk-toggleable__label {cursor: pointer;display: block;width: 100%;margin-bottom: 0;padding: 0.3em;box-sizing: border-box;text-align: center;}#sk-2148be40-2f84-4fe0-b341-eb9e11853fb0 label.sk-toggleable__label-arrow:before {content: \"▸\";float: left;margin-right: 0.25em;color: #696969;}#sk-2148be40-2f84-4fe0-b341-eb9e11853fb0 label.sk-toggleable__label-arrow:hover:before {color: black;}#sk-2148be40-2f84-4fe0-b341-eb9e11853fb0 div.sk-estimator:hover label.sk-toggleable__label-arrow:before {color: black;}#sk-2148be40-2f84-4fe0-b341-eb9e11853fb0 div.sk-toggleable__content {max-height: 0;max-width: 0;overflow: hidden;text-align: left;background-color: #f0f8ff;}#sk-2148be40-2f84-4fe0-b341-eb9e11853fb0 div.sk-toggleable__content pre {margin: 0.2em;color: black;border-radius: 0.25em;background-color: #f0f8ff;}#sk-2148be40-2f84-4fe0-b341-eb9e11853fb0 input.sk-toggleable__control:checked~div.sk-toggleable__content {max-height: 200px;max-width: 100%;overflow: auto;}#sk-2148be40-2f84-4fe0-b341-eb9e11853fb0 input.sk-toggleable__control:checked~label.sk-toggleable__label-arrow:before {content: \"▾\";}#sk-2148be40-2f84-4fe0-b341-eb9e11853fb0 div.sk-estimator input.sk-toggleable__control:checked~label.sk-toggleable__label {background-color: #d4ebff;}#sk-2148be40-2f84-4fe0-b341-eb9e11853fb0 div.sk-label input.sk-toggleable__control:checked~label.sk-toggleable__label {background-color: #d4ebff;}#sk-2148be40-2f84-4fe0-b341-eb9e11853fb0 input.sk-hidden--visually {border: 0;clip: rect(1px 1px 1px 1px);clip: rect(1px, 1px, 1px, 1px);height: 1px;margin: -1px;overflow: hidden;padding: 0;position: absolute;width: 1px;}#sk-2148be40-2f84-4fe0-b341-eb9e11853fb0 div.sk-estimator {font-family: monospace;background-color: #f0f8ff;border: 1px dotted black;border-radius: 0.25em;box-sizing: border-box;margin-bottom: 0.5em;}#sk-2148be40-2f84-4fe0-b341-eb9e11853fb0 div.sk-estimator:hover {background-color: #d4ebff;}#sk-2148be40-2f84-4fe0-b341-eb9e11853fb0 div.sk-parallel-item::after {content: \"\";width: 100%;border-bottom: 1px solid gray;flex-grow: 1;}#sk-2148be40-2f84-4fe0-b341-eb9e11853fb0 div.sk-label:hover label.sk-toggleable__label {background-color: #d4ebff;}#sk-2148be40-2f84-4fe0-b341-eb9e11853fb0 div.sk-serial::before {content: \"\";position: absolute;border-left: 1px solid gray;box-sizing: border-box;top: 2em;bottom: 0;left: 50%;}#sk-2148be40-2f84-4fe0-b341-eb9e11853fb0 div.sk-serial {display: flex;flex-direction: column;align-items: center;background-color: white;padding-right: 0.2em;padding-left: 0.2em;}#sk-2148be40-2f84-4fe0-b341-eb9e11853fb0 div.sk-item {z-index: 1;}#sk-2148be40-2f84-4fe0-b341-eb9e11853fb0 div.sk-parallel {display: flex;align-items: stretch;justify-content: center;background-color: white;}#sk-2148be40-2f84-4fe0-b341-eb9e11853fb0 div.sk-parallel::before {content: \"\";position: absolute;border-left: 1px solid gray;box-sizing: border-box;top: 2em;bottom: 0;left: 50%;}#sk-2148be40-2f84-4fe0-b341-eb9e11853fb0 div.sk-parallel-item {display: flex;flex-direction: column;position: relative;background-color: white;}#sk-2148be40-2f84-4fe0-b341-eb9e11853fb0 div.sk-parallel-item:first-child::after {align-self: flex-end;width: 50%;}#sk-2148be40-2f84-4fe0-b341-eb9e11853fb0 div.sk-parallel-item:last-child::after {align-self: flex-start;width: 50%;}#sk-2148be40-2f84-4fe0-b341-eb9e11853fb0 div.sk-parallel-item:only-child::after {width: 0;}#sk-2148be40-2f84-4fe0-b341-eb9e11853fb0 div.sk-dashed-wrapped {border: 1px dashed gray;margin: 0 0.4em 0.5em 0.4em;box-sizing: border-box;padding-bottom: 0.4em;background-color: white;position: relative;}#sk-2148be40-2f84-4fe0-b341-eb9e11853fb0 div.sk-label label {font-family: monospace;font-weight: bold;background-color: white;display: inline-block;line-height: 1.2em;}#sk-2148be40-2f84-4fe0-b341-eb9e11853fb0 div.sk-label-container {position: relative;z-index: 2;text-align: center;}#sk-2148be40-2f84-4fe0-b341-eb9e11853fb0 div.sk-container {/* jupyter's `normalize.less` sets `[hidden] { display: none; }` but bootstrap.min.css set `[hidden] { display: none !important; }` so we also need the `!important` here to be able to override the default hidden behavior on the sphinx rendered scikit-learn.org. See: https://github.com/scikit-learn/scikit-learn/issues/21755 */display: inline-block !important;position: relative;}#sk-2148be40-2f84-4fe0-b341-eb9e11853fb0 div.sk-text-repr-fallback {display: none;}</style><div id='sk-2148be40-2f84-4fe0-b341-eb9e11853fb0' class=\"sk-top-container\"><div class=\"sk-text-repr-fallback\"><pre>Rocket(random_state=123)</pre><b>Please rerun this cell to show the HTML repr or trust the notebook.</b></div><div class=\"sk-container\" hidden><div class='sk-item'><div class=\"sk-estimator sk-toggleable\"><input class=\"sk-toggleable__control sk-hidden--visually\" id=UUID('8e4785b3-fc9f-45bb-be88-787233e242d9') type=\"checkbox\" checked><label for=UUID('8e4785b3-fc9f-45bb-be88-787233e242d9') class='sk-toggleable__label sk-toggleable__label-arrow'>Rocket</label><div class=\"sk-toggleable__content\"><pre>Rocket(random_state=123)</pre></div></div></div></div></div>"
      ],
      "text/plain": [
       "Rocket(random_state=123)"
      ]
     },
     "execution_count": 18,
     "metadata": {},
     "output_type": "execute_result"
    }
   ],
   "source": [
    "#ROCKET with LGBM\n",
    "\n",
    "import lightgbm as lgbm\n",
    "\n",
    "#trans = Rocket(random_state=123,num_kernels=20000)\n",
    "trans = Rocket(random_state=123)\n",
    "trans.fit(X_train)"
   ]
  },
  {
   "cell_type": "code",
   "execution_count": 0,
   "metadata": {
    "application/vnd.databricks.v1+cell": {
     "cellMetadata": {
      "byteLimit": 2048000,
      "rowLimit": 10000
     },
     "inputWidgets": {},
     "nuid": "e2b91c81-a8a9-40f9-b1a6-4968c0b56c0f",
     "showTitle": false,
     "tableResultSettingsMap": {},
     "title": ""
    }
   },
   "outputs": [],
   "source": [
    "X_train_tran = trans.transform(X_train)\n",
    "X_val_tran = trans.transform(X_val)\n",
    "X_test_tran = trans.transform(X_test)"
   ]
  },
  {
   "cell_type": "code",
   "execution_count": 0,
   "metadata": {
    "application/vnd.databricks.v1+cell": {
     "cellMetadata": {
      "byteLimit": 2048000,
      "rowLimit": 10000
     },
     "inputWidgets": {},
     "nuid": "257ee269-656d-4545-b5bd-0500c3264725",
     "showTitle": false,
     "tableResultSettingsMap": {},
     "title": ""
    }
   },
   "outputs": [
    {
     "output_type": "execute_result",
     "data": {
      "text/html": [
       "<div>\n",
       "<style scoped>\n",
       "    .dataframe tbody tr th:only-of-type {\n",
       "        vertical-align: middle;\n",
       "    }\n",
       "\n",
       "    .dataframe tbody tr th {\n",
       "        vertical-align: top;\n",
       "    }\n",
       "\n",
       "    .dataframe thead th {\n",
       "        text-align: right;\n",
       "    }\n",
       "</style>\n",
       "<table border=\"1\" class=\"dataframe\">\n",
       "  <thead>\n",
       "    <tr style=\"text-align: right;\">\n",
       "      <th></th>\n",
       "      <th>0</th>\n",
       "      <th>1</th>\n",
       "      <th>2</th>\n",
       "      <th>3</th>\n",
       "      <th>4</th>\n",
       "      <th>5</th>\n",
       "      <th>6</th>\n",
       "      <th>7</th>\n",
       "      <th>8</th>\n",
       "      <th>9</th>\n",
       "      <th>10</th>\n",
       "      <th>11</th>\n",
       "      <th>12</th>\n",
       "      <th>13</th>\n",
       "      <th>14</th>\n",
       "      <th>15</th>\n",
       "      <th>16</th>\n",
       "      <th>17</th>\n",
       "      <th>18</th>\n",
       "      <th>19</th>\n",
       "      <th>20</th>\n",
       "      <th>21</th>\n",
       "      <th>22</th>\n",
       "      <th>23</th>\n",
       "      <th>24</th>\n",
       "      <th>25</th>\n",
       "      <th>26</th>\n",
       "      <th>27</th>\n",
       "      <th>28</th>\n",
       "      <th>29</th>\n",
       "      <th>30</th>\n",
       "      <th>31</th>\n",
       "      <th>32</th>\n",
       "      <th>33</th>\n",
       "      <th>34</th>\n",
       "      <th>35</th>\n",
       "      <th>36</th>\n",
       "      <th>37</th>\n",
       "      <th>38</th>\n",
       "      <th>39</th>\n",
       "      <th>...</th>\n",
       "      <th>19960</th>\n",
       "      <th>19961</th>\n",
       "      <th>19962</th>\n",
       "      <th>19963</th>\n",
       "      <th>19964</th>\n",
       "      <th>19965</th>\n",
       "      <th>19966</th>\n",
       "      <th>19967</th>\n",
       "      <th>19968</th>\n",
       "      <th>19969</th>\n",
       "      <th>19970</th>\n",
       "      <th>19971</th>\n",
       "      <th>19972</th>\n",
       "      <th>19973</th>\n",
       "      <th>19974</th>\n",
       "      <th>19975</th>\n",
       "      <th>19976</th>\n",
       "      <th>19977</th>\n",
       "      <th>19978</th>\n",
       "      <th>19979</th>\n",
       "      <th>19980</th>\n",
       "      <th>19981</th>\n",
       "      <th>19982</th>\n",
       "      <th>19983</th>\n",
       "      <th>19984</th>\n",
       "      <th>19985</th>\n",
       "      <th>19986</th>\n",
       "      <th>19987</th>\n",
       "      <th>19988</th>\n",
       "      <th>19989</th>\n",
       "      <th>19990</th>\n",
       "      <th>19991</th>\n",
       "      <th>19992</th>\n",
       "      <th>19993</th>\n",
       "      <th>19994</th>\n",
       "      <th>19995</th>\n",
       "      <th>19996</th>\n",
       "      <th>19997</th>\n",
       "      <th>19998</th>\n",
       "      <th>19999</th>\n",
       "    </tr>\n",
       "  </thead>\n",
       "  <tbody>\n",
       "    <tr>\n",
       "      <th>0</th>\n",
       "      <td>0.0</td>\n",
       "      <td>-0.190489</td>\n",
       "      <td>1.0</td>\n",
       "      <td>0.192439</td>\n",
       "      <td>0.0</td>\n",
       "      <td>-0.896651</td>\n",
       "      <td>0.0</td>\n",
       "      <td>-0.471308</td>\n",
       "      <td>1.0</td>\n",
       "      <td>0.521024</td>\n",
       "      <td>0.0</td>\n",
       "      <td>-0.004229</td>\n",
       "      <td>0.0</td>\n",
       "      <td>-0.352162</td>\n",
       "      <td>0.0</td>\n",
       "      <td>-0.808605</td>\n",
       "      <td>1.0</td>\n",
       "      <td>0.752859</td>\n",
       "      <td>0.0</td>\n",
       "      <td>-0.853394</td>\n",
       "      <td>0.0</td>\n",
       "      <td>-0.345842</td>\n",
       "      <td>1.0</td>\n",
       "      <td>0.87964</td>\n",
       "      <td>0.0</td>\n",
       "      <td>-0.097563</td>\n",
       "      <td>0.0</td>\n",
       "      <td>-0.376401</td>\n",
       "      <td>0.0</td>\n",
       "      <td>-0.430864</td>\n",
       "      <td>0.0</td>\n",
       "      <td>-0.222929</td>\n",
       "      <td>1.0</td>\n",
       "      <td>0.973633</td>\n",
       "      <td>1.0</td>\n",
       "      <td>0.937253</td>\n",
       "      <td>0.714286</td>\n",
       "      <td>4.343083</td>\n",
       "      <td>0.0</td>\n",
       "      <td>-0.874629</td>\n",
       "      <td>...</td>\n",
       "      <td>0.0</td>\n",
       "      <td>-0.907349</td>\n",
       "      <td>1.0</td>\n",
       "      <td>0.871435</td>\n",
       "      <td>0.0</td>\n",
       "      <td>-4.134502</td>\n",
       "      <td>0.0</td>\n",
       "      <td>-0.796465</td>\n",
       "      <td>0.0</td>\n",
       "      <td>-0.984255</td>\n",
       "      <td>0.0</td>\n",
       "      <td>-0.82657</td>\n",
       "      <td>0.0</td>\n",
       "      <td>-0.775824</td>\n",
       "      <td>0.0</td>\n",
       "      <td>-0.604808</td>\n",
       "      <td>0.000000</td>\n",
       "      <td>-0.426462</td>\n",
       "      <td>1.0</td>\n",
       "      <td>0.42453</td>\n",
       "      <td>0.0</td>\n",
       "      <td>-0.863306</td>\n",
       "      <td>1.0</td>\n",
       "      <td>0.732052</td>\n",
       "      <td>0.0</td>\n",
       "      <td>-0.82839</td>\n",
       "      <td>0.0</td>\n",
       "      <td>-0.016611</td>\n",
       "      <td>0.0</td>\n",
       "      <td>-0.362066</td>\n",
       "      <td>0.0</td>\n",
       "      <td>-0.990614</td>\n",
       "      <td>0.0</td>\n",
       "      <td>-0.083339</td>\n",
       "      <td>1.0</td>\n",
       "      <td>0.528461</td>\n",
       "      <td>0.0</td>\n",
       "      <td>-0.309796</td>\n",
       "      <td>1.0</td>\n",
       "      <td>0.26904</td>\n",
       "    </tr>\n",
       "    <tr>\n",
       "      <th>1</th>\n",
       "      <td>0.0</td>\n",
       "      <td>-0.190489</td>\n",
       "      <td>1.0</td>\n",
       "      <td>0.192439</td>\n",
       "      <td>0.0</td>\n",
       "      <td>-0.896651</td>\n",
       "      <td>0.0</td>\n",
       "      <td>-0.471308</td>\n",
       "      <td>1.0</td>\n",
       "      <td>0.521024</td>\n",
       "      <td>0.0</td>\n",
       "      <td>-0.004230</td>\n",
       "      <td>0.0</td>\n",
       "      <td>-0.352162</td>\n",
       "      <td>0.0</td>\n",
       "      <td>-0.808605</td>\n",
       "      <td>1.0</td>\n",
       "      <td>0.752859</td>\n",
       "      <td>0.0</td>\n",
       "      <td>-0.853395</td>\n",
       "      <td>0.0</td>\n",
       "      <td>-0.345842</td>\n",
       "      <td>1.0</td>\n",
       "      <td>0.87964</td>\n",
       "      <td>0.0</td>\n",
       "      <td>-0.097563</td>\n",
       "      <td>0.0</td>\n",
       "      <td>-0.376401</td>\n",
       "      <td>0.0</td>\n",
       "      <td>-0.430864</td>\n",
       "      <td>0.0</td>\n",
       "      <td>-0.222929</td>\n",
       "      <td>1.0</td>\n",
       "      <td>0.973633</td>\n",
       "      <td>1.0</td>\n",
       "      <td>0.937253</td>\n",
       "      <td>1.000000</td>\n",
       "      <td>0.371102</td>\n",
       "      <td>0.0</td>\n",
       "      <td>-0.874629</td>\n",
       "      <td>...</td>\n",
       "      <td>0.0</td>\n",
       "      <td>-0.907349</td>\n",
       "      <td>1.0</td>\n",
       "      <td>0.871435</td>\n",
       "      <td>0.0</td>\n",
       "      <td>-0.690346</td>\n",
       "      <td>0.0</td>\n",
       "      <td>-6.761166</td>\n",
       "      <td>0.0</td>\n",
       "      <td>-0.984255</td>\n",
       "      <td>0.0</td>\n",
       "      <td>-0.82657</td>\n",
       "      <td>0.0</td>\n",
       "      <td>-0.775824</td>\n",
       "      <td>0.0</td>\n",
       "      <td>-0.604808</td>\n",
       "      <td>0.285714</td>\n",
       "      <td>4.145315</td>\n",
       "      <td>1.0</td>\n",
       "      <td>0.42453</td>\n",
       "      <td>0.0</td>\n",
       "      <td>-0.863306</td>\n",
       "      <td>1.0</td>\n",
       "      <td>0.732052</td>\n",
       "      <td>0.0</td>\n",
       "      <td>-0.82839</td>\n",
       "      <td>0.0</td>\n",
       "      <td>-0.016611</td>\n",
       "      <td>0.0</td>\n",
       "      <td>-0.362066</td>\n",
       "      <td>0.0</td>\n",
       "      <td>-0.990614</td>\n",
       "      <td>0.0</td>\n",
       "      <td>-0.083339</td>\n",
       "      <td>1.0</td>\n",
       "      <td>0.528461</td>\n",
       "      <td>0.0</td>\n",
       "      <td>-0.309796</td>\n",
       "      <td>1.0</td>\n",
       "      <td>0.26904</td>\n",
       "    </tr>\n",
       "    <tr>\n",
       "      <th>2</th>\n",
       "      <td>0.0</td>\n",
       "      <td>-0.190489</td>\n",
       "      <td>1.0</td>\n",
       "      <td>0.192439</td>\n",
       "      <td>0.0</td>\n",
       "      <td>-0.896651</td>\n",
       "      <td>0.0</td>\n",
       "      <td>-0.471308</td>\n",
       "      <td>1.0</td>\n",
       "      <td>0.521024</td>\n",
       "      <td>0.0</td>\n",
       "      <td>-0.004230</td>\n",
       "      <td>0.0</td>\n",
       "      <td>-0.352162</td>\n",
       "      <td>0.0</td>\n",
       "      <td>-0.808605</td>\n",
       "      <td>1.0</td>\n",
       "      <td>0.752859</td>\n",
       "      <td>0.0</td>\n",
       "      <td>-0.853395</td>\n",
       "      <td>0.0</td>\n",
       "      <td>-0.345842</td>\n",
       "      <td>1.0</td>\n",
       "      <td>0.87964</td>\n",
       "      <td>0.0</td>\n",
       "      <td>-0.097563</td>\n",
       "      <td>0.0</td>\n",
       "      <td>-0.376401</td>\n",
       "      <td>0.0</td>\n",
       "      <td>-0.430864</td>\n",
       "      <td>0.0</td>\n",
       "      <td>-0.222929</td>\n",
       "      <td>1.0</td>\n",
       "      <td>0.973633</td>\n",
       "      <td>1.0</td>\n",
       "      <td>0.937253</td>\n",
       "      <td>1.000000</td>\n",
       "      <td>0.371102</td>\n",
       "      <td>0.0</td>\n",
       "      <td>-0.874629</td>\n",
       "      <td>...</td>\n",
       "      <td>0.0</td>\n",
       "      <td>-0.907349</td>\n",
       "      <td>1.0</td>\n",
       "      <td>0.871435</td>\n",
       "      <td>0.0</td>\n",
       "      <td>-0.690346</td>\n",
       "      <td>0.0</td>\n",
       "      <td>-0.796465</td>\n",
       "      <td>0.0</td>\n",
       "      <td>-0.984255</td>\n",
       "      <td>0.0</td>\n",
       "      <td>-0.82657</td>\n",
       "      <td>0.0</td>\n",
       "      <td>-0.775824</td>\n",
       "      <td>0.0</td>\n",
       "      <td>-0.604808</td>\n",
       "      <td>0.000000</td>\n",
       "      <td>-0.426462</td>\n",
       "      <td>1.0</td>\n",
       "      <td>0.42453</td>\n",
       "      <td>0.0</td>\n",
       "      <td>-0.863306</td>\n",
       "      <td>1.0</td>\n",
       "      <td>0.732052</td>\n",
       "      <td>0.0</td>\n",
       "      <td>-0.82839</td>\n",
       "      <td>0.0</td>\n",
       "      <td>-0.016611</td>\n",
       "      <td>0.0</td>\n",
       "      <td>-2.999028</td>\n",
       "      <td>0.0</td>\n",
       "      <td>-0.990613</td>\n",
       "      <td>0.0</td>\n",
       "      <td>-0.083339</td>\n",
       "      <td>1.0</td>\n",
       "      <td>0.528461</td>\n",
       "      <td>0.0</td>\n",
       "      <td>-0.309796</td>\n",
       "      <td>1.0</td>\n",
       "      <td>0.26904</td>\n",
       "    </tr>\n",
       "    <tr>\n",
       "      <th>3</th>\n",
       "      <td>0.0</td>\n",
       "      <td>-0.190489</td>\n",
       "      <td>1.0</td>\n",
       "      <td>0.192439</td>\n",
       "      <td>0.0</td>\n",
       "      <td>-0.896651</td>\n",
       "      <td>0.0</td>\n",
       "      <td>-0.471308</td>\n",
       "      <td>1.0</td>\n",
       "      <td>0.521024</td>\n",
       "      <td>0.0</td>\n",
       "      <td>-0.004230</td>\n",
       "      <td>0.0</td>\n",
       "      <td>-0.352162</td>\n",
       "      <td>0.0</td>\n",
       "      <td>-0.808605</td>\n",
       "      <td>1.0</td>\n",
       "      <td>0.752859</td>\n",
       "      <td>0.0</td>\n",
       "      <td>-0.853395</td>\n",
       "      <td>0.0</td>\n",
       "      <td>-0.345842</td>\n",
       "      <td>1.0</td>\n",
       "      <td>0.87964</td>\n",
       "      <td>0.0</td>\n",
       "      <td>-0.097563</td>\n",
       "      <td>0.0</td>\n",
       "      <td>-0.376401</td>\n",
       "      <td>0.0</td>\n",
       "      <td>-0.430864</td>\n",
       "      <td>0.0</td>\n",
       "      <td>-0.222929</td>\n",
       "      <td>1.0</td>\n",
       "      <td>0.973633</td>\n",
       "      <td>1.0</td>\n",
       "      <td>0.937253</td>\n",
       "      <td>0.428571</td>\n",
       "      <td>1.186471</td>\n",
       "      <td>0.0</td>\n",
       "      <td>-0.874629</td>\n",
       "      <td>...</td>\n",
       "      <td>0.0</td>\n",
       "      <td>-0.907349</td>\n",
       "      <td>1.0</td>\n",
       "      <td>0.871435</td>\n",
       "      <td>0.0</td>\n",
       "      <td>-5.507941</td>\n",
       "      <td>0.0</td>\n",
       "      <td>-0.796465</td>\n",
       "      <td>0.0</td>\n",
       "      <td>-0.984254</td>\n",
       "      <td>0.0</td>\n",
       "      <td>-0.82657</td>\n",
       "      <td>0.0</td>\n",
       "      <td>-0.775824</td>\n",
       "      <td>0.0</td>\n",
       "      <td>-0.604808</td>\n",
       "      <td>0.000000</td>\n",
       "      <td>-0.426462</td>\n",
       "      <td>1.0</td>\n",
       "      <td>0.42453</td>\n",
       "      <td>0.0</td>\n",
       "      <td>-0.863306</td>\n",
       "      <td>1.0</td>\n",
       "      <td>0.732052</td>\n",
       "      <td>0.0</td>\n",
       "      <td>-0.82839</td>\n",
       "      <td>0.0</td>\n",
       "      <td>-0.016611</td>\n",
       "      <td>0.0</td>\n",
       "      <td>-0.362066</td>\n",
       "      <td>0.0</td>\n",
       "      <td>-0.990613</td>\n",
       "      <td>0.0</td>\n",
       "      <td>-0.083339</td>\n",
       "      <td>1.0</td>\n",
       "      <td>0.528461</td>\n",
       "      <td>0.0</td>\n",
       "      <td>-0.309796</td>\n",
       "      <td>1.0</td>\n",
       "      <td>0.26904</td>\n",
       "    </tr>\n",
       "    <tr>\n",
       "      <th>4</th>\n",
       "      <td>0.0</td>\n",
       "      <td>-0.190489</td>\n",
       "      <td>1.0</td>\n",
       "      <td>0.192439</td>\n",
       "      <td>0.0</td>\n",
       "      <td>-0.896651</td>\n",
       "      <td>0.0</td>\n",
       "      <td>-0.471308</td>\n",
       "      <td>1.0</td>\n",
       "      <td>0.521024</td>\n",
       "      <td>0.0</td>\n",
       "      <td>-0.004230</td>\n",
       "      <td>0.0</td>\n",
       "      <td>-0.352162</td>\n",
       "      <td>0.0</td>\n",
       "      <td>-0.808605</td>\n",
       "      <td>1.0</td>\n",
       "      <td>0.752859</td>\n",
       "      <td>0.0</td>\n",
       "      <td>-0.853395</td>\n",
       "      <td>0.0</td>\n",
       "      <td>-0.345842</td>\n",
       "      <td>1.0</td>\n",
       "      <td>0.87964</td>\n",
       "      <td>0.0</td>\n",
       "      <td>-0.097563</td>\n",
       "      <td>0.0</td>\n",
       "      <td>-0.376401</td>\n",
       "      <td>0.0</td>\n",
       "      <td>-0.430864</td>\n",
       "      <td>0.0</td>\n",
       "      <td>-0.222929</td>\n",
       "      <td>1.0</td>\n",
       "      <td>0.973633</td>\n",
       "      <td>1.0</td>\n",
       "      <td>0.937253</td>\n",
       "      <td>1.000000</td>\n",
       "      <td>0.371102</td>\n",
       "      <td>0.0</td>\n",
       "      <td>-0.874629</td>\n",
       "      <td>...</td>\n",
       "      <td>0.0</td>\n",
       "      <td>-0.907349</td>\n",
       "      <td>1.0</td>\n",
       "      <td>0.871435</td>\n",
       "      <td>0.0</td>\n",
       "      <td>-0.690346</td>\n",
       "      <td>0.0</td>\n",
       "      <td>-1.788411</td>\n",
       "      <td>0.0</td>\n",
       "      <td>-0.984254</td>\n",
       "      <td>0.0</td>\n",
       "      <td>-0.82657</td>\n",
       "      <td>0.0</td>\n",
       "      <td>-0.775824</td>\n",
       "      <td>0.0</td>\n",
       "      <td>-0.604808</td>\n",
       "      <td>0.285714</td>\n",
       "      <td>0.538494</td>\n",
       "      <td>1.0</td>\n",
       "      <td>0.42453</td>\n",
       "      <td>0.0</td>\n",
       "      <td>-0.863306</td>\n",
       "      <td>1.0</td>\n",
       "      <td>0.732053</td>\n",
       "      <td>0.0</td>\n",
       "      <td>-0.82839</td>\n",
       "      <td>0.0</td>\n",
       "      <td>-0.016611</td>\n",
       "      <td>0.0</td>\n",
       "      <td>-0.362066</td>\n",
       "      <td>0.0</td>\n",
       "      <td>-0.990614</td>\n",
       "      <td>0.0</td>\n",
       "      <td>-0.083339</td>\n",
       "      <td>1.0</td>\n",
       "      <td>0.528461</td>\n",
       "      <td>0.0</td>\n",
       "      <td>-0.309796</td>\n",
       "      <td>1.0</td>\n",
       "      <td>0.26904</td>\n",
       "    </tr>\n",
       "  </tbody>\n",
       "</table>\n",
       "<p>5 rows × 20000 columns</p>\n",
       "</div>"
      ],
      "text/plain": [
       "   0         1      2         3      ...  19996     19997  19998    19999\n",
       "0    0.0 -0.190489    1.0  0.192439  ...    0.0 -0.309796    1.0  0.26904\n",
       "1    0.0 -0.190489    1.0  0.192439  ...    0.0 -0.309796    1.0  0.26904\n",
       "2    0.0 -0.190489    1.0  0.192439  ...    0.0 -0.309796    1.0  0.26904\n",
       "3    0.0 -0.190489    1.0  0.192439  ...    0.0 -0.309796    1.0  0.26904\n",
       "4    0.0 -0.190489    1.0  0.192439  ...    0.0 -0.309796    1.0  0.26904\n",
       "\n",
       "[5 rows x 20000 columns]"
      ]
     },
     "execution_count": 26,
     "metadata": {},
     "output_type": "execute_result"
    }
   ],
   "source": [
    "X_test_tran.head()"
   ]
  },
  {
   "cell_type": "code",
   "execution_count": 0,
   "metadata": {
    "application/vnd.databricks.v1+cell": {
     "cellMetadata": {
      "byteLimit": 2048000,
      "rowLimit": 10000
     },
     "inputWidgets": {},
     "nuid": "4b1c3bb7-befd-4b75-b452-288afbfa6d59",
     "showTitle": false,
     "tableResultSettingsMap": {},
     "title": ""
    }
   },
   "outputs": [
    {
     "output_type": "stream",
     "name": "stderr",
     "output_type": "stream",
     "text": [
      "WARNING:urllib3.connectionpool:Connection pool is full, discarding connection: dbstoragegkg6npqdr6g3y.blob.core.usgovcloudapi.net. Connection pool size: 10\nWARNING:urllib3.connectionpool:Connection pool is full, discarding connection: dbstoragegkg6npqdr6g3y.blob.core.usgovcloudapi.net. Connection pool size: 10\nWARNING:urllib3.connectionpool:Connection pool is full, discarding connection: dbstoragegkg6npqdr6g3y.blob.core.usgovcloudapi.net. Connection pool size: 10\nWARNING:urllib3.connectionpool:Connection pool is full, discarding connection: dbstoragegkg6npqdr6g3y.blob.core.usgovcloudapi.net. Connection pool size: 10\nWARNING:urllib3.connectionpool:Connection pool is full, discarding connection: dbstoragegkg6npqdr6g3y.blob.core.usgovcloudapi.net. Connection pool size: 10\nWARNING:urllib3.connectionpool:Connection pool is full, discarding connection: dbstoragegkg6npqdr6g3y.blob.core.usgovcloudapi.net. Connection pool size: 10\nWARNING:urllib3.connectionpool:Connection pool is full, discarding connection: dbstoragegkg6npqdr6g3y.blob.core.usgovcloudapi.net. Connection pool size: 10\nWARNING:urllib3.connectionpool:Connection pool is full, discarding connection: dbstoragegkg6npqdr6g3y.blob.core.usgovcloudapi.net. Connection pool size: 10\n"
     ]
    },
    {
     "output_type": "execute_result",
     "data": {
      "text/html": [
       "<style>#sk-container-id-1 {color: black;background-color: white;}#sk-container-id-1 pre{padding: 0;}#sk-container-id-1 div.sk-toggleable {background-color: white;}#sk-container-id-1 label.sk-toggleable__label {cursor: pointer;display: block;width: 100%;margin-bottom: 0;padding: 0.3em;box-sizing: border-box;text-align: center;}#sk-container-id-1 label.sk-toggleable__label-arrow:before {content: \"▸\";float: left;margin-right: 0.25em;color: #696969;}#sk-container-id-1 label.sk-toggleable__label-arrow:hover:before {color: black;}#sk-container-id-1 div.sk-estimator:hover label.sk-toggleable__label-arrow:before {color: black;}#sk-container-id-1 div.sk-toggleable__content {max-height: 0;max-width: 0;overflow: hidden;text-align: left;background-color: #f0f8ff;}#sk-container-id-1 div.sk-toggleable__content pre {margin: 0.2em;color: black;border-radius: 0.25em;background-color: #f0f8ff;}#sk-container-id-1 input.sk-toggleable__control:checked~div.sk-toggleable__content {max-height: 200px;max-width: 100%;overflow: auto;}#sk-container-id-1 input.sk-toggleable__control:checked~label.sk-toggleable__label-arrow:before {content: \"▾\";}#sk-container-id-1 div.sk-estimator input.sk-toggleable__control:checked~label.sk-toggleable__label {background-color: #d4ebff;}#sk-container-id-1 div.sk-label input.sk-toggleable__control:checked~label.sk-toggleable__label {background-color: #d4ebff;}#sk-container-id-1 input.sk-hidden--visually {border: 0;clip: rect(1px 1px 1px 1px);clip: rect(1px, 1px, 1px, 1px);height: 1px;margin: -1px;overflow: hidden;padding: 0;position: absolute;width: 1px;}#sk-container-id-1 div.sk-estimator {font-family: monospace;background-color: #f0f8ff;border: 1px dotted black;border-radius: 0.25em;box-sizing: border-box;margin-bottom: 0.5em;}#sk-container-id-1 div.sk-estimator:hover {background-color: #d4ebff;}#sk-container-id-1 div.sk-parallel-item::after {content: \"\";width: 100%;border-bottom: 1px solid gray;flex-grow: 1;}#sk-container-id-1 div.sk-label:hover label.sk-toggleable__label {background-color: #d4ebff;}#sk-container-id-1 div.sk-serial::before {content: \"\";position: absolute;border-left: 1px solid gray;box-sizing: border-box;top: 0;bottom: 0;left: 50%;z-index: 0;}#sk-container-id-1 div.sk-serial {display: flex;flex-direction: column;align-items: center;background-color: white;padding-right: 0.2em;padding-left: 0.2em;position: relative;}#sk-container-id-1 div.sk-item {position: relative;z-index: 1;}#sk-container-id-1 div.sk-parallel {display: flex;align-items: stretch;justify-content: center;background-color: white;position: relative;}#sk-container-id-1 div.sk-item::before, #sk-container-id-1 div.sk-parallel-item::before {content: \"\";position: absolute;border-left: 1px solid gray;box-sizing: border-box;top: 0;bottom: 0;left: 50%;z-index: -1;}#sk-container-id-1 div.sk-parallel-item {display: flex;flex-direction: column;z-index: 1;position: relative;background-color: white;}#sk-container-id-1 div.sk-parallel-item:first-child::after {align-self: flex-end;width: 50%;}#sk-container-id-1 div.sk-parallel-item:last-child::after {align-self: flex-start;width: 50%;}#sk-container-id-1 div.sk-parallel-item:only-child::after {width: 0;}#sk-container-id-1 div.sk-dashed-wrapped {border: 1px dashed gray;margin: 0 0.4em 0.5em 0.4em;box-sizing: border-box;padding-bottom: 0.4em;background-color: white;}#sk-container-id-1 div.sk-label label {font-family: monospace;font-weight: bold;display: inline-block;line-height: 1.2em;}#sk-container-id-1 div.sk-label-container {text-align: center;}#sk-container-id-1 div.sk-container {/* jupyter's `normalize.less` sets `[hidden] { display: none; }` but bootstrap.min.css set `[hidden] { display: none !important; }` so we also need the `!important` here to be able to override the default hidden behavior on the sphinx rendered scikit-learn.org. See: https://github.com/scikit-learn/scikit-learn/issues/21755 */display: inline-block !important;position: relative;}#sk-container-id-1 div.sk-text-repr-fallback {display: none;}</style><div id=\"sk-container-id-1\" class=\"sk-top-container\"><div class=\"sk-text-repr-fallback\"><pre>LGBMClassifier(colsample_bytree=0.8, learning_rate=0.025, min_child_samples=500,\n",
       "               n_estimators=10000, num_leaves=1000, random_state=123,\n",
       "               scale_pos_weight=40, subsample=0.5)</pre><b>In a Jupyter environment, please rerun this cell to show the HTML representation or trust the notebook. <br />On GitHub, the HTML representation is unable to render, please try loading this page with nbviewer.org.</b></div><div class=\"sk-container\" hidden><div class=\"sk-item\"><div class=\"sk-estimator sk-toggleable\"><input class=\"sk-toggleable__control sk-hidden--visually\" id=\"sk-estimator-id-1\" type=\"checkbox\" checked><label for=\"sk-estimator-id-1\" class=\"sk-toggleable__label sk-toggleable__label-arrow\">LGBMClassifier</label><div class=\"sk-toggleable__content\"><pre>LGBMClassifier(colsample_bytree=0.8, learning_rate=0.025, min_child_samples=500,\n",
       "               n_estimators=10000, num_leaves=1000, random_state=123,\n",
       "               scale_pos_weight=40, subsample=0.5)</pre></div></div></div></div></div>"
      ],
      "text/plain": [
       "LGBMClassifier(colsample_bytree=0.8, learning_rate=0.025, min_child_samples=500,\n",
       "               n_estimators=10000, num_leaves=1000, random_state=123,\n",
       "               scale_pos_weight=40, subsample=0.5)"
      ]
     },
     "execution_count": 18,
     "metadata": {},
     "output_type": "execute_result"
    },
    {
     "output_type": "display_data",
     "data": {
      "text/plain": [
       "<Figure size 640x200480 with 1 Axes>"
      ]
     },
     "metadata": {},
     "output_type": "display_data"
    },
    {
     "output_type": "display_data",
     "data": {
      "text/plain": [
       "<Figure size 640x200480 with 1 Axes>"
      ]
     },
     "metadata": {},
     "output_type": "display_data"
    }
   ],
   "source": [
    "lgbm_mod = lgbm.LGBMClassifier(n_estimators = 10000, #number of boosing iterations\n",
    "                               learning_rate = 0.025,\n",
    "                               num_leaves = 1000, \n",
    "                               subsample = 0.5, #bagging_fraction\n",
    "                               colsample_bytree = 0.8, #feature fraction\n",
    "                               min_child_samples = 500, #min_data_in_leaf\n",
    "                               #max_depth = 100, \n",
    "                               random_state=123,\n",
    "                               #is_unbalance = True,\n",
    "                               scale_pos_weight = 40) #neg_n/pos_n\n",
    "\n",
    "lgbm_mod.fit(X_train_tran,y_train,eval_metric=\"PRAUC\")"
   ]
  },
  {
   "cell_type": "markdown",
   "metadata": {
    "application/vnd.databricks.v1+cell": {
     "cellMetadata": {},
     "inputWidgets": {},
     "nuid": "d6a8a109-a028-45c6-8938-cc05b803c2ee",
     "showTitle": false,
     "tableResultSettingsMap": {},
     "title": ""
    }
   },
   "source": [
    "#### Parameter Tuning"
   ]
  },
  {
   "cell_type": "code",
   "execution_count": 0,
   "metadata": {
    "application/vnd.databricks.v1+cell": {
     "cellMetadata": {
      "byteLimit": 2048000,
      "rowLimit": 10000
     },
     "inputWidgets": {},
     "nuid": "60ead88c-bff9-471c-916d-11c7ed35f0d5",
     "showTitle": false,
     "tableResultSettingsMap": {},
     "title": ""
    }
   },
   "outputs": [],
   "source": [
    "#https://github.com/Microsoft/LightGBM/issues/695#issuecomment-315591634\n",
    "##Based on basic model listed above, parameters search near default metrics \n",
    "\n",
    "import optuna\n",
    "from optuna.samplers import RandomSampler\n",
    "\n",
    "def objective(trial):\n",
    "    params = {\n",
    "        \"objective\": \"binary\",\n",
    "        \"metric\": \"f1\",\n",
    "        \"verbosity\": -1,\n",
    "\n",
    "        \"bagging_freq\": 1, #Resampling data before each tree\n",
    "        #\"bagging_freq\": trial.suggest_float(\"bagging_freq\", 0, 1, step = 0.1),\n",
    "        #\"bagging_fraction\": trial.suggest_float(\"bagging_fraction\", 0, 1, step = 0.1),\n",
    "\n",
    "        #\"n_estimators\": trial.suggest_int(\"n_estimators\", 100, 5000, step = 100),\n",
    "        \"n_estimators\": 10000,\n",
    "        \"learning_rate\": trial.suggest_float(\"learning_rate\", 0.001, 0.1, log=True),\n",
    "        \"num_leaves\": trial.suggest_int(\"num_leaves\", 7, 4095, step = 2**10), #tree complexity (terminal nodes)\n",
    "        \"subsample\": trial.suggest_float(\"subsample\", 0.1, 1.0, step = 0.01), #Proportion of data to be randomly selecteed\n",
    "        \"colsample_bytree\": trial.suggest_float(\"colsample_bytree\", 0.5, 1.0, step = 0.1), #Proportion of features for each tree\n",
    "        \"min_data_in_leaf\": trial.suggest_int(\"min_data_in_leaf\", 100, 1000), #Min data points each leaf node \n",
    "        \"scale_pos_weight\": trial.suggest_int(\"scale_pos_weight\",1,100),\n",
    "        #\"n_iter_no_change\": 50,  # early stopping\n",
    "    }\n",
    "\n",
    "    model = lgbm.LGBMClassifier(**params)\n",
    "    model.fit(X_train_tran, y_train, verbose=False)\n",
    "    \n",
    "    y_pred_prob = model.predict_proba(X_test_tran)\n",
    "    precision, recall, thresholds = precision_recall_curve(y_test, y_pred_prob[:,1])\n",
    "    prauc = auc(recall,precision)\n",
    "    return prauc\n",
    "    \n",
    "    #f1 = f1_score(y_test,y_pred_prob[:,1])\n",
    "    #f_beta = sklearn.metrics.fbets_score(y_test,y_pred_prob, beta = 0.5) #set to [0.5,1,2]\n",
    "    #accur = accuracy_score(y_train, predictions)\n",
    "    #return f1"
   ]
  },
  {
   "cell_type": "code",
   "execution_count": 0,
   "metadata": {
    "application/vnd.databricks.v1+cell": {
     "cellMetadata": {
      "byteLimit": 2048000,
      "rowLimit": 10000
     },
     "inputWidgets": {},
     "nuid": "19569c20-4c6c-4914-a16e-fa84d3fc248a",
     "showTitle": false,
     "tableResultSettingsMap": {},
     "title": ""
    }
   },
   "outputs": [
    {
     "output_type": "stream",
     "name": "stderr",
     "output_type": "stream",
     "text": [
      "[I 2024-02-22 15:45:04,842] A new study created in memory with name: light_tune\n/local_disk0/.ephemeral_nfs/envs/pythonEnv-b56c7dde-7965-48ea-a61c-dd1f6c14a8f7/lib/python3.10/site-packages/optuna/distributions.py:700: UserWarning:\n\nThe distribution is specified by [7, 4095] and step=1024, but the range is not divisible by `step`. It will be replaced by [7, 3079].\n\n/databricks/python/lib/python3.10/site-packages/lightgbm/sklearn.py:736: UserWarning:\n\n'verbose' argument is deprecated and will be removed in a future release of LightGBM. Pass 'log_evaluation()' callback via 'callbacks' argument instead.\n\n"
     ]
    },
    {
     "output_type": "stream",
     "name": "stdout",
     "output_type": "stream",
     "text": [
      "[LightGBM] [Warning] min_data_in_leaf is set=748, min_child_samples=20 will be ignored. Current value: min_data_in_leaf=748\n[LightGBM] [Warning] bagging_freq is set=1, subsample_freq=0 will be ignored. Current value: bagging_freq=1\n"
     ]
    },
    {
     "output_type": "stream",
     "name": "stderr",
     "output_type": "stream",
     "text": [
      "[I 2024-02-22 15:55:58,756] Trial 0 finished with value: 0.14735216511639945 and parameters: {'learning_rate': 0.02471373418487883, 'num_leaves': 1031, 'subsample': 0.30000000000000004, 'colsample_bytree': 0.8, 'min_data_in_leaf': 748, 'scale_pos_weight': 43}. Best is trial 0 with value: 0.14735216511639945.\n/local_disk0/.ephemeral_nfs/envs/pythonEnv-b56c7dde-7965-48ea-a61c-dd1f6c14a8f7/lib/python3.10/site-packages/optuna/distributions.py:700: UserWarning:\n\nThe distribution is specified by [7, 4095] and step=1024, but the range is not divisible by `step`. It will be replaced by [7, 3079].\n\n/databricks/python/lib/python3.10/site-packages/lightgbm/sklearn.py:736: UserWarning:\n\n'verbose' argument is deprecated and will be removed in a future release of LightGBM. Pass 'log_evaluation()' callback via 'callbacks' argument instead.\n\n"
     ]
    },
    {
     "output_type": "stream",
     "name": "stdout",
     "output_type": "stream",
     "text": [
      "[LightGBM] [Warning] min_data_in_leaf is set=409, min_child_samples=20 will be ignored. Current value: min_data_in_leaf=409\n[LightGBM] [Warning] bagging_freq is set=1, subsample_freq=0 will be ignored. Current value: bagging_freq=1\n"
     ]
    },
    {
     "output_type": "stream",
     "name": "stderr",
     "output_type": "stream",
     "text": [
      "[I 2024-02-22 16:05:42,445] Trial 1 finished with value: 0.1527459757002671 and parameters: {'learning_rate': 0.09152261002780922, 'num_leaves': 2055, 'subsample': 0.53, 'colsample_bytree': 0.7, 'min_data_in_leaf': 409, 'scale_pos_weight': 73}. Best is trial 1 with value: 0.1527459757002671.\n/local_disk0/.ephemeral_nfs/envs/pythonEnv-b56c7dde-7965-48ea-a61c-dd1f6c14a8f7/lib/python3.10/site-packages/optuna/distributions.py:700: UserWarning:\n\nThe distribution is specified by [7, 4095] and step=1024, but the range is not divisible by `step`. It will be replaced by [7, 3079].\n\n/databricks/python/lib/python3.10/site-packages/lightgbm/sklearn.py:736: UserWarning:\n\n'verbose' argument is deprecated and will be removed in a future release of LightGBM. Pass 'log_evaluation()' callback via 'callbacks' argument instead.\n\n"
     ]
    },
    {
     "output_type": "stream",
     "name": "stdout",
     "output_type": "stream",
     "text": [
      "[LightGBM] [Warning] min_data_in_leaf is set=264, min_child_samples=20 will be ignored. Current value: min_data_in_leaf=264\n[LightGBM] [Warning] bagging_freq is set=1, subsample_freq=0 will be ignored. Current value: bagging_freq=1\n"
     ]
    },
    {
     "output_type": "stream",
     "name": "stderr",
     "output_type": "stream",
     "text": [
      "[I 2024-02-22 16:15:58,488] Trial 2 finished with value: 0.1530872589280664 and parameters: {'learning_rate': 0.007536062461086747, 'num_leaves': 7, 'subsample': 0.45999999999999996, 'colsample_bytree': 0.9, 'min_data_in_leaf': 264, 'scale_pos_weight': 18}. Best is trial 2 with value: 0.1530872589280664.\n/local_disk0/.ephemeral_nfs/envs/pythonEnv-b56c7dde-7965-48ea-a61c-dd1f6c14a8f7/lib/python3.10/site-packages/optuna/distributions.py:700: UserWarning:\n\nThe distribution is specified by [7, 4095] and step=1024, but the range is not divisible by `step`. It will be replaced by [7, 3079].\n\n/databricks/python/lib/python3.10/site-packages/lightgbm/sklearn.py:736: UserWarning:\n\n'verbose' argument is deprecated and will be removed in a future release of LightGBM. Pass 'log_evaluation()' callback via 'callbacks' argument instead.\n\n"
     ]
    },
    {
     "output_type": "stream",
     "name": "stdout",
     "output_type": "stream",
     "text": [
      "[LightGBM] [Warning] min_data_in_leaf is set=752, min_child_samples=20 will be ignored. Current value: min_data_in_leaf=752\n[LightGBM] [Warning] bagging_freq is set=1, subsample_freq=0 will be ignored. Current value: bagging_freq=1\n"
     ]
    },
    {
     "output_type": "stream",
     "name": "stderr",
     "output_type": "stream",
     "text": [
      "[I 2024-02-22 16:34:15,940] Trial 3 finished with value: 0.17581701629777358 and parameters: {'learning_rate': 0.011563857936940024, 'num_leaves': 2055, 'subsample': 0.67, 'colsample_bytree': 1.0, 'min_data_in_leaf': 752, 'scale_pos_weight': 62}. Best is trial 3 with value: 0.17581701629777358.\n/local_disk0/.ephemeral_nfs/envs/pythonEnv-b56c7dde-7965-48ea-a61c-dd1f6c14a8f7/lib/python3.10/site-packages/optuna/distributions.py:700: UserWarning:\n\nThe distribution is specified by [7, 4095] and step=1024, but the range is not divisible by `step`. It will be replaced by [7, 3079].\n\n/databricks/python/lib/python3.10/site-packages/lightgbm/sklearn.py:736: UserWarning:\n\n'verbose' argument is deprecated and will be removed in a future release of LightGBM. Pass 'log_evaluation()' callback via 'callbacks' argument instead.\n\n"
     ]
    },
    {
     "output_type": "stream",
     "name": "stdout",
     "output_type": "stream",
     "text": [
      "[LightGBM] [Warning] min_data_in_leaf is set=364, min_child_samples=20 will be ignored. Current value: min_data_in_leaf=364\n[LightGBM] [Warning] bagging_freq is set=1, subsample_freq=0 will be ignored. Current value: bagging_freq=1\n"
     ]
    },
    {
     "output_type": "stream",
     "name": "stderr",
     "output_type": "stream",
     "text": [
      "[I 2024-02-22 16:50:33,676] Trial 4 finished with value: 0.15564145630967766 and parameters: {'learning_rate': 0.02785394829873094, 'num_leaves': 1031, 'subsample': 0.42000000000000004, 'colsample_bytree': 0.6, 'min_data_in_leaf': 364, 'scale_pos_weight': 64}. Best is trial 3 with value: 0.17581701629777358.\n"
     ]
    },
    {
     "output_type": "display_data",
     "data": {
      "text/plain": [
       "<Figure size 640x200480 with 1 Axes>"
      ]
     },
     "metadata": {},
     "output_type": "display_data"
    },
    {
     "output_type": "display_data",
     "data": {
      "text/plain": [
       "<Figure size 640x200480 with 1 Axes>"
      ]
     },
     "metadata": {},
     "output_type": "display_data"
    },
    {
     "output_type": "display_data",
     "data": {
      "text/plain": [
       "<Figure size 640x200480 with 1 Axes>"
      ]
     },
     "metadata": {},
     "output_type": "display_data"
    },
    {
     "output_type": "display_data",
     "data": {
      "text/plain": [
       "<Figure size 640x200480 with 1 Axes>"
      ]
     },
     "metadata": {},
     "output_type": "display_data"
    },
    {
     "output_type": "display_data",
     "data": {
      "text/plain": [
       "<Figure size 640x200480 with 1 Axes>"
      ]
     },
     "metadata": {},
     "output_type": "display_data"
    },
    {
     "output_type": "display_data",
     "data": {
      "text/plain": [
       "<Figure size 640x200480 with 1 Axes>"
      ]
     },
     "metadata": {},
     "output_type": "display_data"
    },
    {
     "output_type": "display_data",
     "data": {
      "text/plain": [
       "<Figure size 640x200480 with 1 Axes>"
      ]
     },
     "metadata": {},
     "output_type": "display_data"
    },
    {
     "output_type": "display_data",
     "data": {
      "text/plain": [
       "<Figure size 640x200480 with 1 Axes>"
      ]
     },
     "metadata": {},
     "output_type": "display_data"
    },
    {
     "output_type": "display_data",
     "data": {
      "text/plain": [
       "<Figure size 640x200480 with 1 Axes>"
      ]
     },
     "metadata": {},
     "output_type": "display_data"
    },
    {
     "output_type": "display_data",
     "data": {
      "text/plain": [
       "<Figure size 640x200480 with 1 Axes>"
      ]
     },
     "metadata": {},
     "output_type": "display_data"
    }
   ],
   "source": [
    "sampler = RandomSampler(seed=123)\n",
    "study = optuna.create_study(study_name =\"light_tune\", direction = \"maximize\", sampler = sampler)\n",
    "study.optimize(objective, n_trials = 5)"
   ]
  },
  {
   "cell_type": "code",
   "execution_count": 0,
   "metadata": {
    "application/vnd.databricks.v1+cell": {
     "cellMetadata": {
      "byteLimit": 2048000,
      "rowLimit": 10000
     },
     "inputWidgets": {},
     "nuid": "ce5c249e-a536-41ee-8435-ee30b70ac3a3",
     "showTitle": false,
     "tableResultSettingsMap": {},
     "title": ""
    }
   },
   "outputs": [
    {
     "output_type": "execute_result",
     "data": {
      "text/plain": [
       "['/dbfs/FileStore/PH_Files/Rocket_LGBM_OPTUNA_5k_022224']"
      ]
     },
     "execution_count": 134,
     "metadata": {},
     "output_type": "execute_result"
    }
   ],
   "source": [
    "import joblib\n",
    "joblib.dump(study,'path_to_file')"
   ]
  },
  {
   "cell_type": "code",
   "execution_count": 0,
   "metadata": {
    "application/vnd.databricks.v1+cell": {
     "cellMetadata": {
      "byteLimit": 2048000,
      "rowLimit": 10000
     },
     "inputWidgets": {},
     "nuid": "d57ed0a5-33c9-41d2-ac94-3256e751614e",
     "showTitle": false,
     "tableResultSettingsMap": {},
     "title": ""
    }
   },
   "outputs": [],
   "source": [
    "study = joblib.load('path_to_file')"
   ]
  },
  {
   "cell_type": "code",
   "execution_count": 0,
   "metadata": {
    "application/vnd.databricks.v1+cell": {
     "cellMetadata": {
      "byteLimit": 2048000,
      "rowLimit": 10000
     },
     "inputWidgets": {},
     "nuid": "07594ceb-0f43-4f88-a5f1-279d94be6e4d",
     "showTitle": false,
     "tableResultSettingsMap": {},
     "title": ""
    }
   },
   "outputs": [
    {
     "output_type": "execute_result",
     "data": {
      "text/plain": [
       "{'learning_rate': 0.011563857936940024,\n",
       " 'num_leaves': 2055,\n",
       " 'subsample': 0.67,\n",
       " 'colsample_bytree': 1.0,\n",
       " 'min_data_in_leaf': 752,\n",
       " 'scale_pos_weight': 62}"
      ]
     },
     "execution_count": 136,
     "metadata": {},
     "output_type": "execute_result"
    }
   ],
   "source": [
    "study.best_trial.params"
   ]
  },
  {
   "cell_type": "code",
   "execution_count": 0,
   "metadata": {
    "application/vnd.databricks.v1+cell": {
     "cellMetadata": {
      "byteLimit": 2048000,
      "rowLimit": 10000
     },
     "inputWidgets": {},
     "nuid": "e910af55-baf6-46b4-8fa3-484c63978c89",
     "showTitle": false,
     "tableResultSettingsMap": {},
     "title": ""
    }
   },
   "outputs": [],
   "source": [
    "best_parameters = study.best_trial.params"
   ]
  },
  {
   "cell_type": "code",
   "execution_count": 0,
   "metadata": {
    "application/vnd.databricks.v1+cell": {
     "cellMetadata": {
      "byteLimit": 2048000,
      "rowLimit": 10000
     },
     "inputWidgets": {},
     "nuid": "297e837c-987e-4133-845a-eda64e21c7a9",
     "showTitle": false,
     "tableResultSettingsMap": {},
     "title": ""
    }
   },
   "outputs": [
    {
     "output_type": "display_data",
     "data": {
      "text/html": [
       "<html>\n",
       "<head><meta charset=\"utf-8\" /></head>\n",
       "<body>\n",
       "    <div>            <script src=\"https://cdnjs.cloudflare.com/ajax/libs/mathjax/2.7.5/MathJax.js?config=TeX-AMS-MML_SVG\"></script><script type=\"text/javascript\">if (window.MathJax && window.MathJax.Hub && window.MathJax.Hub.Config) {window.MathJax.Hub.Config({SVG: {font: \"STIX-Web\"}});}</script>                <script type=\"text/javascript\">window.PlotlyConfig = {MathJaxConfig: 'local'};</script>\n",
       "        <script src=\"https://cdn.plot.ly/plotly-2.12.1.min.js\"></script>                <div id=\"effda83f-211f-462f-be0b-582c299be010\" class=\"plotly-graph-div\" style=\"height:100%; width:100%;\"></div>            <script type=\"text/javascript\">                                    window.PLOTLYENV=window.PLOTLYENV || {};                                    if (document.getElementById(\"effda83f-211f-462f-be0b-582c299be010\")) {                    Plotly.newPlot(                        \"effda83f-211f-462f-be0b-582c299be010\",                        [{\"cliponaxis\":false,\"hovertemplate\":[\"num_leaves (IntDistribution): 0.015807254015029065<extra></extra>\",\"learning_rate (FloatDistribution): 0.0481134328912525<extra></extra>\",\"scale_pos_weight (IntDistribution): 0.049891675686180186<extra></extra>\",\"subsample (FloatDistribution): 0.21936541266289036<extra></extra>\",\"min_data_in_leaf (IntDistribution): 0.30301772355761225<extra></extra>\",\"colsample_bytree (FloatDistribution): 0.3638045011870358<extra></extra>\"],\"name\":\"Objective Value\",\"orientation\":\"h\",\"text\":[\"0.02\",\"0.05\",\"0.05\",\"0.22\",\"0.30\",\"0.36\"],\"textposition\":\"outside\",\"x\":[0.015807254015029065,0.0481134328912525,0.049891675686180186,0.21936541266289036,0.30301772355761225,0.3638045011870358],\"y\":[\"num_leaves\",\"learning_rate\",\"scale_pos_weight\",\"subsample\",\"min_data_in_leaf\",\"colsample_bytree\"],\"type\":\"bar\"}],                        {\"title\":{\"text\":\"Hyperparameter Importances\"},\"xaxis\":{\"title\":{\"text\":\"Hyperparameter Importance\"}},\"yaxis\":{\"title\":{\"text\":\"Hyperparameter\"}},\"template\":{\"data\":{\"histogram2dcontour\":[{\"type\":\"histogram2dcontour\",\"colorbar\":{\"outlinewidth\":0,\"ticks\":\"\"},\"colorscale\":[[0.0,\"#0d0887\"],[0.1111111111111111,\"#46039f\"],[0.2222222222222222,\"#7201a8\"],[0.3333333333333333,\"#9c179e\"],[0.4444444444444444,\"#bd3786\"],[0.5555555555555556,\"#d8576b\"],[0.6666666666666666,\"#ed7953\"],[0.7777777777777778,\"#fb9f3a\"],[0.8888888888888888,\"#fdca26\"],[1.0,\"#f0f921\"]]}],\"choropleth\":[{\"type\":\"choropleth\",\"colorbar\":{\"outlinewidth\":0,\"ticks\":\"\"}}],\"histogram2d\":[{\"type\":\"histogram2d\",\"colorbar\":{\"outlinewidth\":0,\"ticks\":\"\"},\"colorscale\":[[0.0,\"#0d0887\"],[0.1111111111111111,\"#46039f\"],[0.2222222222222222,\"#7201a8\"],[0.3333333333333333,\"#9c179e\"],[0.4444444444444444,\"#bd3786\"],[0.5555555555555556,\"#d8576b\"],[0.6666666666666666,\"#ed7953\"],[0.7777777777777778,\"#fb9f3a\"],[0.8888888888888888,\"#fdca26\"],[1.0,\"#f0f921\"]]}],\"heatmap\":[{\"type\":\"heatmap\",\"colorbar\":{\"outlinewidth\":0,\"ticks\":\"\"},\"colorscale\":[[0.0,\"#0d0887\"],[0.1111111111111111,\"#46039f\"],[0.2222222222222222,\"#7201a8\"],[0.3333333333333333,\"#9c179e\"],[0.4444444444444444,\"#bd3786\"],[0.5555555555555556,\"#d8576b\"],[0.6666666666666666,\"#ed7953\"],[0.7777777777777778,\"#fb9f3a\"],[0.8888888888888888,\"#fdca26\"],[1.0,\"#f0f921\"]]}],\"heatmapgl\":[{\"type\":\"heatmapgl\",\"colorbar\":{\"outlinewidth\":0,\"ticks\":\"\"},\"colorscale\":[[0.0,\"#0d0887\"],[0.1111111111111111,\"#46039f\"],[0.2222222222222222,\"#7201a8\"],[0.3333333333333333,\"#9c179e\"],[0.4444444444444444,\"#bd3786\"],[0.5555555555555556,\"#d8576b\"],[0.6666666666666666,\"#ed7953\"],[0.7777777777777778,\"#fb9f3a\"],[0.8888888888888888,\"#fdca26\"],[1.0,\"#f0f921\"]]}],\"contourcarpet\":[{\"type\":\"contourcarpet\",\"colorbar\":{\"outlinewidth\":0,\"ticks\":\"\"}}],\"contour\":[{\"type\":\"contour\",\"colorbar\":{\"outlinewidth\":0,\"ticks\":\"\"},\"colorscale\":[[0.0,\"#0d0887\"],[0.1111111111111111,\"#46039f\"],[0.2222222222222222,\"#7201a8\"],[0.3333333333333333,\"#9c179e\"],[0.4444444444444444,\"#bd3786\"],[0.5555555555555556,\"#d8576b\"],[0.6666666666666666,\"#ed7953\"],[0.7777777777777778,\"#fb9f3a\"],[0.8888888888888888,\"#fdca26\"],[1.0,\"#f0f921\"]]}],\"surface\":[{\"type\":\"surface\",\"colorbar\":{\"outlinewidth\":0,\"ticks\":\"\"},\"colorscale\":[[0.0,\"#0d0887\"],[0.1111111111111111,\"#46039f\"],[0.2222222222222222,\"#7201a8\"],[0.3333333333333333,\"#9c179e\"],[0.4444444444444444,\"#bd3786\"],[0.5555555555555556,\"#d8576b\"],[0.6666666666666666,\"#ed7953\"],[0.7777777777777778,\"#fb9f3a\"],[0.8888888888888888,\"#fdca26\"],[1.0,\"#f0f921\"]]}],\"mesh3d\":[{\"type\":\"mesh3d\",\"colorbar\":{\"outlinewidth\":0,\"ticks\":\"\"}}],\"scatter\":[{\"fillpattern\":{\"fillmode\":\"overlay\",\"size\":10,\"solidity\":0.2},\"type\":\"scatter\"}],\"parcoords\":[{\"type\":\"parcoords\",\"line\":{\"colorbar\":{\"outlinewidth\":0,\"ticks\":\"\"}}}],\"scatterpolargl\":[{\"type\":\"scatterpolargl\",\"marker\":{\"colorbar\":{\"outlinewidth\":0,\"ticks\":\"\"}}}],\"bar\":[{\"error_x\":{\"color\":\"#2a3f5f\"},\"error_y\":{\"color\":\"#2a3f5f\"},\"marker\":{\"line\":{\"color\":\"#E5ECF6\",\"width\":0.5},\"pattern\":{\"fillmode\":\"overlay\",\"size\":10,\"solidity\":0.2}},\"type\":\"bar\"}],\"scattergeo\":[{\"type\":\"scattergeo\",\"marker\":{\"colorbar\":{\"outlinewidth\":0,\"ticks\":\"\"}}}],\"scatterpolar\":[{\"type\":\"scatterpolar\",\"marker\":{\"colorbar\":{\"outlinewidth\":0,\"ticks\":\"\"}}}],\"histogram\":[{\"marker\":{\"pattern\":{\"fillmode\":\"overlay\",\"size\":10,\"solidity\":0.2}},\"type\":\"histogram\"}],\"scattergl\":[{\"type\":\"scattergl\",\"marker\":{\"colorbar\":{\"outlinewidth\":0,\"ticks\":\"\"}}}],\"scatter3d\":[{\"type\":\"scatter3d\",\"line\":{\"colorbar\":{\"outlinewidth\":0,\"ticks\":\"\"}},\"marker\":{\"colorbar\":{\"outlinewidth\":0,\"ticks\":\"\"}}}],\"scattermapbox\":[{\"type\":\"scattermapbox\",\"marker\":{\"colorbar\":{\"outlinewidth\":0,\"ticks\":\"\"}}}],\"scatterternary\":[{\"type\":\"scatterternary\",\"marker\":{\"colorbar\":{\"outlinewidth\":0,\"ticks\":\"\"}}}],\"scattercarpet\":[{\"type\":\"scattercarpet\",\"marker\":{\"colorbar\":{\"outlinewidth\":0,\"ticks\":\"\"}}}],\"carpet\":[{\"aaxis\":{\"endlinecolor\":\"#2a3f5f\",\"gridcolor\":\"white\",\"linecolor\":\"white\",\"minorgridcolor\":\"white\",\"startlinecolor\":\"#2a3f5f\"},\"baxis\":{\"endlinecolor\":\"#2a3f5f\",\"gridcolor\":\"white\",\"linecolor\":\"white\",\"minorgridcolor\":\"white\",\"startlinecolor\":\"#2a3f5f\"},\"type\":\"carpet\"}],\"table\":[{\"cells\":{\"fill\":{\"color\":\"#EBF0F8\"},\"line\":{\"color\":\"white\"}},\"header\":{\"fill\":{\"color\":\"#C8D4E3\"},\"line\":{\"color\":\"white\"}},\"type\":\"table\"}],\"barpolar\":[{\"marker\":{\"line\":{\"color\":\"#E5ECF6\",\"width\":0.5},\"pattern\":{\"fillmode\":\"overlay\",\"size\":10,\"solidity\":0.2}},\"type\":\"barpolar\"}],\"pie\":[{\"automargin\":true,\"type\":\"pie\"}]},\"layout\":{\"autotypenumbers\":\"strict\",\"colorway\":[\"#636efa\",\"#EF553B\",\"#00cc96\",\"#ab63fa\",\"#FFA15A\",\"#19d3f3\",\"#FF6692\",\"#B6E880\",\"#FF97FF\",\"#FECB52\"],\"font\":{\"color\":\"#2a3f5f\"},\"hovermode\":\"closest\",\"hoverlabel\":{\"align\":\"left\"},\"paper_bgcolor\":\"white\",\"plot_bgcolor\":\"#E5ECF6\",\"polar\":{\"bgcolor\":\"#E5ECF6\",\"angularaxis\":{\"gridcolor\":\"white\",\"linecolor\":\"white\",\"ticks\":\"\"},\"radialaxis\":{\"gridcolor\":\"white\",\"linecolor\":\"white\",\"ticks\":\"\"}},\"ternary\":{\"bgcolor\":\"#E5ECF6\",\"aaxis\":{\"gridcolor\":\"white\",\"linecolor\":\"white\",\"ticks\":\"\"},\"baxis\":{\"gridcolor\":\"white\",\"linecolor\":\"white\",\"ticks\":\"\"},\"caxis\":{\"gridcolor\":\"white\",\"linecolor\":\"white\",\"ticks\":\"\"}},\"coloraxis\":{\"colorbar\":{\"outlinewidth\":0,\"ticks\":\"\"}},\"colorscale\":{\"sequential\":[[0.0,\"#0d0887\"],[0.1111111111111111,\"#46039f\"],[0.2222222222222222,\"#7201a8\"],[0.3333333333333333,\"#9c179e\"],[0.4444444444444444,\"#bd3786\"],[0.5555555555555556,\"#d8576b\"],[0.6666666666666666,\"#ed7953\"],[0.7777777777777778,\"#fb9f3a\"],[0.8888888888888888,\"#fdca26\"],[1.0,\"#f0f921\"]],\"sequentialminus\":[[0.0,\"#0d0887\"],[0.1111111111111111,\"#46039f\"],[0.2222222222222222,\"#7201a8\"],[0.3333333333333333,\"#9c179e\"],[0.4444444444444444,\"#bd3786\"],[0.5555555555555556,\"#d8576b\"],[0.6666666666666666,\"#ed7953\"],[0.7777777777777778,\"#fb9f3a\"],[0.8888888888888888,\"#fdca26\"],[1.0,\"#f0f921\"]],\"diverging\":[[0,\"#8e0152\"],[0.1,\"#c51b7d\"],[0.2,\"#de77ae\"],[0.3,\"#f1b6da\"],[0.4,\"#fde0ef\"],[0.5,\"#f7f7f7\"],[0.6,\"#e6f5d0\"],[0.7,\"#b8e186\"],[0.8,\"#7fbc41\"],[0.9,\"#4d9221\"],[1,\"#276419\"]]},\"xaxis\":{\"gridcolor\":\"white\",\"linecolor\":\"white\",\"ticks\":\"\",\"title\":{\"standoff\":15},\"zerolinecolor\":\"white\",\"automargin\":true,\"zerolinewidth\":2},\"yaxis\":{\"gridcolor\":\"white\",\"linecolor\":\"white\",\"ticks\":\"\",\"title\":{\"standoff\":15},\"zerolinecolor\":\"white\",\"automargin\":true,\"zerolinewidth\":2},\"scene\":{\"xaxis\":{\"backgroundcolor\":\"#E5ECF6\",\"gridcolor\":\"white\",\"linecolor\":\"white\",\"showbackground\":true,\"ticks\":\"\",\"zerolinecolor\":\"white\",\"gridwidth\":2},\"yaxis\":{\"backgroundcolor\":\"#E5ECF6\",\"gridcolor\":\"white\",\"linecolor\":\"white\",\"showbackground\":true,\"ticks\":\"\",\"zerolinecolor\":\"white\",\"gridwidth\":2},\"zaxis\":{\"backgroundcolor\":\"#E5ECF6\",\"gridcolor\":\"white\",\"linecolor\":\"white\",\"showbackground\":true,\"ticks\":\"\",\"zerolinecolor\":\"white\",\"gridwidth\":2}},\"shapedefaults\":{\"line\":{\"color\":\"#2a3f5f\"}},\"annotationdefaults\":{\"arrowcolor\":\"#2a3f5f\",\"arrowhead\":0,\"arrowwidth\":1},\"geo\":{\"bgcolor\":\"white\",\"landcolor\":\"#E5ECF6\",\"subunitcolor\":\"white\",\"showland\":true,\"showlakes\":true,\"lakecolor\":\"white\"},\"title\":{\"x\":0.05},\"mapbox\":{\"style\":\"light\"}}}},                        {\"responsive\": true}                    )                };                            </script>        </div>\n",
       "</body>\n",
       "</html>"
      ]
     },
     "metadata": {},
     "output_type": "display_data"
    }
   ],
   "source": [
    "from optuna.visualization import plot_param_importances\n",
    "\n",
    "fig = plot_param_importances(study)\n",
    "fig.show()"
   ]
  },
  {
   "cell_type": "code",
   "execution_count": 0,
   "metadata": {
    "application/vnd.databricks.v1+cell": {
     "cellMetadata": {
      "byteLimit": 2048000,
      "rowLimit": 10000
     },
     "inputWidgets": {},
     "nuid": "cacfa617-c45a-472a-ab14-69916f6287b6",
     "showTitle": false,
     "tableResultSettingsMap": {},
     "title": ""
    }
   },
   "outputs": [
    {
     "output_type": "stream",
     "name": "stdout",
     "output_type": "stream",
     "text": [
      "[LightGBM] [Warning] min_data_in_leaf is set=752, min_child_samples=20 will be ignored. Current value: min_data_in_leaf=752\n"
     ]
    },
    {
     "output_type": "execute_result",
     "data": {
      "text/html": [
       "<style>#sk-container-id-11 {color: black;background-color: white;}#sk-container-id-11 pre{padding: 0;}#sk-container-id-11 div.sk-toggleable {background-color: white;}#sk-container-id-11 label.sk-toggleable__label {cursor: pointer;display: block;width: 100%;margin-bottom: 0;padding: 0.3em;box-sizing: border-box;text-align: center;}#sk-container-id-11 label.sk-toggleable__label-arrow:before {content: \"▸\";float: left;margin-right: 0.25em;color: #696969;}#sk-container-id-11 label.sk-toggleable__label-arrow:hover:before {color: black;}#sk-container-id-11 div.sk-estimator:hover label.sk-toggleable__label-arrow:before {color: black;}#sk-container-id-11 div.sk-toggleable__content {max-height: 0;max-width: 0;overflow: hidden;text-align: left;background-color: #f0f8ff;}#sk-container-id-11 div.sk-toggleable__content pre {margin: 0.2em;color: black;border-radius: 0.25em;background-color: #f0f8ff;}#sk-container-id-11 input.sk-toggleable__control:checked~div.sk-toggleable__content {max-height: 200px;max-width: 100%;overflow: auto;}#sk-container-id-11 input.sk-toggleable__control:checked~label.sk-toggleable__label-arrow:before {content: \"▾\";}#sk-container-id-11 div.sk-estimator input.sk-toggleable__control:checked~label.sk-toggleable__label {background-color: #d4ebff;}#sk-container-id-11 div.sk-label input.sk-toggleable__control:checked~label.sk-toggleable__label {background-color: #d4ebff;}#sk-container-id-11 input.sk-hidden--visually {border: 0;clip: rect(1px 1px 1px 1px);clip: rect(1px, 1px, 1px, 1px);height: 1px;margin: -1px;overflow: hidden;padding: 0;position: absolute;width: 1px;}#sk-container-id-11 div.sk-estimator {font-family: monospace;background-color: #f0f8ff;border: 1px dotted black;border-radius: 0.25em;box-sizing: border-box;margin-bottom: 0.5em;}#sk-container-id-11 div.sk-estimator:hover {background-color: #d4ebff;}#sk-container-id-11 div.sk-parallel-item::after {content: \"\";width: 100%;border-bottom: 1px solid gray;flex-grow: 1;}#sk-container-id-11 div.sk-label:hover label.sk-toggleable__label {background-color: #d4ebff;}#sk-container-id-11 div.sk-serial::before {content: \"\";position: absolute;border-left: 1px solid gray;box-sizing: border-box;top: 0;bottom: 0;left: 50%;z-index: 0;}#sk-container-id-11 div.sk-serial {display: flex;flex-direction: column;align-items: center;background-color: white;padding-right: 0.2em;padding-left: 0.2em;position: relative;}#sk-container-id-11 div.sk-item {position: relative;z-index: 1;}#sk-container-id-11 div.sk-parallel {display: flex;align-items: stretch;justify-content: center;background-color: white;position: relative;}#sk-container-id-11 div.sk-item::before, #sk-container-id-11 div.sk-parallel-item::before {content: \"\";position: absolute;border-left: 1px solid gray;box-sizing: border-box;top: 0;bottom: 0;left: 50%;z-index: -1;}#sk-container-id-11 div.sk-parallel-item {display: flex;flex-direction: column;z-index: 1;position: relative;background-color: white;}#sk-container-id-11 div.sk-parallel-item:first-child::after {align-self: flex-end;width: 50%;}#sk-container-id-11 div.sk-parallel-item:last-child::after {align-self: flex-start;width: 50%;}#sk-container-id-11 div.sk-parallel-item:only-child::after {width: 0;}#sk-container-id-11 div.sk-dashed-wrapped {border: 1px dashed gray;margin: 0 0.4em 0.5em 0.4em;box-sizing: border-box;padding-bottom: 0.4em;background-color: white;}#sk-container-id-11 div.sk-label label {font-family: monospace;font-weight: bold;display: inline-block;line-height: 1.2em;}#sk-container-id-11 div.sk-label-container {text-align: center;}#sk-container-id-11 div.sk-container {/* jupyter's `normalize.less` sets `[hidden] { display: none; }` but bootstrap.min.css set `[hidden] { display: none !important; }` so we also need the `!important` here to be able to override the default hidden behavior on the sphinx rendered scikit-learn.org. See: https://github.com/scikit-learn/scikit-learn/issues/21755 */display: inline-block !important;position: relative;}#sk-container-id-11 div.sk-text-repr-fallback {display: none;}</style><div id=\"sk-container-id-11\" class=\"sk-top-container\"><div class=\"sk-text-repr-fallback\"><pre>LGBMClassifier(learning_rate=0.011563857936940024, min_data_in_leaf=752,\n",
       "               num_leaves=2055, scale_pos_weight=62, subsample=0.67)</pre><b>In a Jupyter environment, please rerun this cell to show the HTML representation or trust the notebook. <br />On GitHub, the HTML representation is unable to render, please try loading this page with nbviewer.org.</b></div><div class=\"sk-container\" hidden><div class=\"sk-item\"><div class=\"sk-estimator sk-toggleable\"><input class=\"sk-toggleable__control sk-hidden--visually\" id=\"sk-estimator-id-11\" type=\"checkbox\" checked><label for=\"sk-estimator-id-11\" class=\"sk-toggleable__label sk-toggleable__label-arrow\">LGBMClassifier</label><div class=\"sk-toggleable__content\"><pre>LGBMClassifier(learning_rate=0.011563857936940024, min_data_in_leaf=752,\n",
       "               num_leaves=2055, scale_pos_weight=62, subsample=0.67)</pre></div></div></div></div></div>"
      ],
      "text/plain": [
       "LGBMClassifier(learning_rate=0.011563857936940024, min_data_in_leaf=752,\n",
       "               num_leaves=2055, scale_pos_weight=62, subsample=0.67)"
      ]
     },
     "execution_count": 139,
     "metadata": {},
     "output_type": "execute_result"
    },
    {
     "output_type": "display_data",
     "data": {
      "text/plain": [
       "<Figure size 640x200480 with 1 Axes>"
      ]
     },
     "metadata": {},
     "output_type": "display_data"
    },
    {
     "output_type": "display_data",
     "data": {
      "text/plain": [
       "<Figure size 640x200480 with 1 Axes>"
      ]
     },
     "metadata": {},
     "output_type": "display_data"
    }
   ],
   "source": [
    "best_model = lgbm.LGBMClassifier(**best_parameters)\n",
    "\n",
    "best_model.fit(X_train_tran,y_train,eval_metric=\"PRAUC\")"
   ]
  },
  {
   "cell_type": "code",
   "execution_count": 0,
   "metadata": {
    "application/vnd.databricks.v1+cell": {
     "cellMetadata": {
      "byteLimit": 2048000,
      "rowLimit": 10000
     },
     "inputWidgets": {},
     "nuid": "23ea8eeb-0d3b-4049-8fef-5bac8701f697",
     "showTitle": false,
     "tableResultSettingsMap": {},
     "title": ""
    }
   },
   "outputs": [
    {
     "output_type": "display_data",
     "data": {
      "text/plain": [
       "\u001B[0;31m---------------------------------------------------------------------------\u001B[0m\n",
       "\u001B[0;31mThe Python process exited with exit code 137 (SIGKILL: Killed). This may have been caused by an OOM error. Check your command's memory usage.\u001B[0m\n",
       "\u001B[0;31m\u001B[0m\n",
       "\u001B[0;31m\u001B[0m\n",
       "\u001B[0;31m\u001B[0m\n",
       "\u001B[0;31mThe last 10 KB of the process's stderr and stdout can be found below. See driver logs for full logs.\u001B[0m\n",
       "\u001B[0;31m---------------------------------------------------------------------------\u001B[0m\n",
       "\u001B[0;31mLast messages on stderr:\u001B[0m\n",
       "\u001B[0;31mThu Jan 25 21:02:49 2024 Connection to spark from PID  3122\u001B[0m\n",
       "\u001B[0;31mThu Jan 25 21:02:49 2024 Initialized gateway on port 42663\u001B[0m\n",
       "\u001B[0;31mThu Jan 25 21:02:49 2024 Connected to spark.\u001B[0m\n",
       "\u001B[0;31m/databricks/spark/python/pyspark/sql/pandas/utils.py:105: UserWarning: The conversion of DecimalType columns is inefficient and may take a long time. Column names: [ServiceConnectedPercent] If those columns are not necessary, you may consider dropping them or converting to primitive types before the conversion.\u001B[0m\n",
       "\u001B[0;31m  warnings.warn(\u001B[0m\n",
       "\u001B[0;31m---------------------------------------------------------------------------\u001B[0m\n",
       "\u001B[0;31mLast messages on stdout:\u001B[0m\n",
       "\u001B[0;31mNOTE: When using the `ipython kernel` entry point, Ctrl-C will not work.\u001B[0m\n",
       "\u001B[0;31m\u001B[0m\n",
       "\u001B[0;31mTo exit, you will have to explicitly quit this process, by either sending\u001B[0m\n",
       "\u001B[0;31m\"quit\" from a client, or using Ctrl-\\ in UNIX-like environments.\u001B[0m\n",
       "\u001B[0;31m\u001B[0m\n",
       "\u001B[0;31mTo read more about this, see https://github.com/ipython/ipython/issues/2049\u001B[0m\n",
       "\u001B[0;31m\u001B[0m\n",
       "\u001B[0;31m\u001B[0m\n",
       "\u001B[0;31mTo connect another client to this kernel, use:\u001B[0m\n",
       "\u001B[0;31m    --existing /databricks/kernel-connections/9e7eb97fd4b5ab41b8dbecd9d9e1cebb22742162898d4654a4f62dc2344df4ee.json\u001B[0m\n",
       "\u001B[0;31mCollecting sktime\r\u001B[0m\n",
       "\u001B[0;31m  Downloading sktime-0.25.0-py3-none-any.whl (21.7 MB)\r\u001B[0m\n",
       "\u001B[0;31m\u001B[?25l     ━━━━━━━━━━━━━━━━━━━━━━━━━━━━━━━━━━━━━━━━ 0.0/21.7 MB ? eta -:--:--\r\u001B[2K     ━━━━━━━━━━━━━━━━━━━━━━━━━━━━━━━━━━━━━━━━ 0.1/21.7 MB 2.0 MB/s eta 0:00:11\r\u001B[2K     ╸━━━━━━━━━━━━━━━━━━━━━━━━━━━━━━━━━━━━━━━ 0.4/21.7 MB 5.7 MB/s eta 0:00:04\r\u001B[2K     ━╺━━━━━━━━━━━━━━━━━━━━━━━━━━━━━━━━━━━━━━ 0.8/21.7 MB 7.5 MB/s eta 0:00:03\r\u001B[2K     ━━╺━━━━━━━━━━━━━━━━━━━━━━━━━━━━━━━━━━━━━ 1.3/21.7 MB 9.0 MB/s eta 0:00:03\r\u001B[2K     ━━━╸━━━━━━━━━━━━━━━━━━━━━━━━━━━━━━━━━━━━ 2.0/21.7 MB 11.2 MB/s eta 0:00:02\r\u001B[2K     ━━━━━╺━━━━━━━━━━━━━━━━━━━━━━━━━━━━━━━━━━ 2.9/21.7 MB 13.5 MB/s eta 0:00:02\r\u001B[2K     ━━━━━━━╺━━━━━━━━━━━━━━━━━━━━━━━━━━━━━━━━ 4.0/21.7 MB 16.4 MB/s eta 0:00:02\r\u001B[2K     ━━━━━━━━━━╺━━━━━━━━━━━━━━━━━━━━━━━━━━━━━ 5.6/21.7 MB 19.8 MB/s eta 0:00:01\r\u001B[2K     ━━━━━━━━━━━━━╸━━━━━━━━━━━━━━━━━━━━━━━━━━ 7.6/21.7 MB 23.9 MB/s eta 0:00:01\r\u001B[2K     ━━━━━━━━━━━━━━━━━━━╺━━━━━━━━━━━━━━━━━━━━ 10.4/21.7 MB 32.5 MB/s eta 0:00:01\r\u001B[2K     ━━━━━━━━━━━━━━━━━━━━━━━━━╺━━━━━━━━━━━━━━ 13.6/21.7 MB 64.6 MB/s eta 0:00:01\r\u001B[2K     ━━━━━━━━━━━━━━━━━━━━━━━━━━━━━━━╺━━━━━━━━ 16.9/21.7 MB 83.1 MB/s eta 0:00:01\r\u001B[2K     ━━━━━━━━━━━━━━━━━━━━━━━━━━━━━━━━━━━━━━╺━ 20.7/21.7 MB 98.0 MB/s eta 0:00:01\r\u001B[2K     ━━━━━━━━━━━━━━━━━━━━━━━━━━━━━━━━━━━━━━━╸ 21.7/21.7 MB 97.1 MB/s eta 0:00:01\r\u001B[2K     ━━━━━━━━━━━━━━━━━━━━━━━━━━━━━━━━━━━━━━━╸ 21.7/21.7 MB 97.1 MB/s eta 0:00:01\r\u001B[2K     ━━━━━━━━━━━━━━━━━━━━━━━━━━━━━━━━━━━━━━━╸ 21.7/21.7 MB 97.1 MB/s eta 0:00:01\r\u001B[2K     ━━━━━━━━━━━━━━━━━━━━━━━━━━━━━━━━━━━━━━━╸ 21.7/21.7 MB 97.1 MB/s eta 0:00:01\r\u001B[2K     ━━━━━━━━━━━━━━━━━━━━━━━━━━━━━━━━━━━━━━━╸ 21.7/21.7 MB 97.1 MB/s eta 0:00:01\r\u001B[2K     ━━━━━━━━━━━━━━━━━━━━━━━━━━━━━━━━━━━━━━━╸ 21.7/21.7 MB 97.1 MB/s eta 0:00:01\r\u001B[2K     ━━━━━━━━━━━━━━━━━━━━━━━━━━━━━━━━━━━━━━━╸ 21.7/21.7 MB 97.1 MB/s eta 0:00:01\r\u001B[2K     ━━━━━━━━━━━━━━━━━━━━━━━━━━━━━━━━━━━━━━━━ 21.7/21.7 MB 27.6 MB/s eta 0:00:00\r\u001B[0m\n",
       "\u001B[0;31m\u001B[?25hRequirement already satisfied: scipy<2.0.0,>=1.2 in /databricks/python3/lib/python3.10/site-packages (from sktime) (1.9.1)\r\u001B[0m\n",
       "\u001B[0;31mRequirement already satisfied: scikit-learn<1.4.0,>=0.24 in /databricks/python3/lib/python3.10/site-packages (from sktime) (1.1.1)\r\u001B[0m\n",
       "\u001B[0;31mRequirement already satisfied: pandas<2.2.0,>=1.1 in /databricks/python3/lib/python3.10/site-packages (from sktime) (1.4.4)\r\u001B[0m\n",
       "\u001B[0;31mCollecting scikit-base<0.7.0\r\u001B[0m\n",
       "\u001B[0;31m  Downloading scikit_base-0.6.2-py3-none-any.whl (122 kB)\r\u001B[0m\n",
       "\u001B[0;31m\u001B[?25l     ━━━━━━━━━━━━━━━━━━━━━━━━━━━━━━━━━━━━━━━━ 0.0/122.9 kB ? eta -:--:--\r\u001B[2K     ━━━━━━━━━━━━━━━━━━━━━━━━━━━━━━━━━━━━━━ 122.9/122.9 kB 12.2 MB/s eta 0:00:00\r\u001B[0m\n",
       "\u001B[0;31m\u001B[?25hRequirement already satisfied: packaging in /databricks/python3/lib/python3.10/site-packages (from sktime) (21.3)\r\u001B[0m\n",
       "\u001B[0;31mRequirement already satisfied: numpy<1.27,>=1.21 in /databricks/python3/lib/python3.10/site-packages (from sktime) (1.21.5)\r\u001B[0m\n",
       "\u001B[0;31mRequirement already satisfied: python-dateutil>=2.8.1 in /databricks/python3/lib/python3.10/site-packages (from pandas<2.2.0,>=1.1->sktime) (2.8.2)\r\u001B[0m\n",
       "\u001B[0;31mRequirement already satisfied: pytz>=2020.1 in /databricks/python3/lib/python3.10/site-packages (from pandas<2.2.0,>=1.1->sktime) (2022.1)\r\u001B[0m\n",
       "\u001B[0;31mRequirement already satisfied: joblib>=1.0.0 in /databricks/python3/lib/python3.10/site-packages (from scikit-learn<1.4.0,>=0.24->sktime) (1.2.0)\r\u001B[0m\n",
       "\u001B[0;31mRequirement already satisfied: threadpoolctl>=2.0.0 in /databricks/python3/lib/python3.10/site-packages (from scikit-learn<1.4.0,>=0.24->sktime) (2.2.0)\r\u001B[0m\n",
       "\u001B[0;31mRequirement already satisfied: pyparsing!=3.0.5,>=2.0.2 in /databricks/python3/lib/python3.10/site-packages (from packaging->sktime) (3.0.9)\r\u001B[0m\n",
       "\u001B[0;31mRequirement already satisfied: six>=1.5 in /usr/lib/python3/dist-packages (from python-dateutil>=2.8.1->pandas<2.2.0,>=1.1->sktime) (1.16.0)\r\u001B[0m\n",
       "\u001B[0;31mInstalling collected packages: scikit-base, sktime\r\u001B[0m\n",
       "\u001B[0;31mSuccessfully installed scikit-base-0.6.2 sktime-0.25.0\r\u001B[0m\n",
       "\u001B[0;31m\r\u001B[0m\n",
       "\u001B[0;31m[notice] A new release of pip available: 22.2.2 -> 23.3.2\r\u001B[0m\n",
       "\u001B[0;31m[notice] To update, run: pip install --upgrade pip\r\u001B[0m\n",
       "\u001B[0;31mRequirement already satisfied: scikit-learn in /databricks/python3/lib/python3.10/site-packages (1.1.1)\r\u001B[0m\n",
       "\u001B[0;31mRequirement already satisfied: scipy>=1.3.2 in /databricks/python3/lib/python3.10/site-packages (from scikit-learn) (1.9.1)\r\u001B[0m\n",
       "\u001B[0;31mRequirement already satisfied: threadpoolctl>=2.0.0 in /databricks/python3/lib/python3.10/site-packages (from scikit-learn) (2.2.0)\r\u001B[0m\n",
       "\u001B[0;31mRequirement already satisfied: joblib>=1.0.0 in /databricks/python3/lib/python3.10/site-packages (from scikit-learn) (1.2.0)\r\u001B[0m\n",
       "\u001B[0;31mRequirement already satisfied: numpy>=1.17.3 in /databricks/python3/lib/python3.10/site-packages (from scikit-learn) (1.21.5)\r\u001B[0m\n",
       "\u001B[0;31m\r\u001B[0m\n",
       "\u001B[0;31m[notice] A new release of pip available: 22.2.2 -> 23.3.2\r\u001B[0m\n",
       "\u001B[0;31m[notice] To update, run: pip install --upgrade pip\r\u001B[0m\n",
       "\u001B[0;31m[LightGBM] [Warning] Unknown parameter: colnampes_bytree\u001B[0m"
      ]
     },
     "metadata": {
      "application/vnd.databricks.v1+output": {
       "arguments": {},
       "data": "\u001B[0;31m---------------------------------------------------------------------------\u001B[0m\n\u001B[0;31mThe Python process exited with exit code 137 (SIGKILL: Killed). This may have been caused by an OOM error. Check your command's memory usage.\u001B[0m\n\u001B[0;31m\u001B[0m\n\u001B[0;31m\u001B[0m\n\u001B[0;31m\u001B[0m\n\u001B[0;31mThe last 10 KB of the process's stderr and stdout can be found below. See driver logs for full logs.\u001B[0m\n\u001B[0;31m---------------------------------------------------------------------------\u001B[0m\n\u001B[0;31mLast messages on stderr:\u001B[0m\n\u001B[0;31mThu Jan 25 21:02:49 2024 Connection to spark from PID  3122\u001B[0m\n\u001B[0;31mThu Jan 25 21:02:49 2024 Initialized gateway on port 42663\u001B[0m\n\u001B[0;31mThu Jan 25 21:02:49 2024 Connected to spark.\u001B[0m\n\u001B[0;31m/databricks/spark/python/pyspark/sql/pandas/utils.py:105: UserWarning: The conversion of DecimalType columns is inefficient and may take a long time. Column names: [ServiceConnectedPercent] If those columns are not necessary, you may consider dropping them or converting to primitive types before the conversion.\u001B[0m\n\u001B[0;31m  warnings.warn(\u001B[0m\n\u001B[0;31m---------------------------------------------------------------------------\u001B[0m\n\u001B[0;31mLast messages on stdout:\u001B[0m\n\u001B[0;31mNOTE: When using the `ipython kernel` entry point, Ctrl-C will not work.\u001B[0m\n\u001B[0;31m\u001B[0m\n\u001B[0;31mTo exit, you will have to explicitly quit this process, by either sending\u001B[0m\n\u001B[0;31m\"quit\" from a client, or using Ctrl-\\ in UNIX-like environments.\u001B[0m\n\u001B[0;31m\u001B[0m\n\u001B[0;31mTo read more about this, see https://github.com/ipython/ipython/issues/2049\u001B[0m\n\u001B[0;31m\u001B[0m\n\u001B[0;31m\u001B[0m\n\u001B[0;31mTo connect another client to this kernel, use:\u001B[0m\n\u001B[0;31m    --existing /databricks/kernel-connections/9e7eb97fd4b5ab41b8dbecd9d9e1cebb22742162898d4654a4f62dc2344df4ee.json\u001B[0m\n\u001B[0;31mCollecting sktime\r\u001B[0m\n\u001B[0;31m  Downloading sktime-0.25.0-py3-none-any.whl (21.7 MB)\r\u001B[0m\n\u001B[0;31m\u001B[?25l     ━━━━━━━━━━━━━━━━━━━━━━━━━━━━━━━━━━━━━━━━ 0.0/21.7 MB ? eta -:--:--\r\u001B[2K     ━━━━━━━━━━━━━━━━━━━━━━━━━━━━━━━━━━━━━━━━ 0.1/21.7 MB 2.0 MB/s eta 0:00:11\r\u001B[2K     ╸━━━━━━━━━━━━━━━━━━━━━━━━━━━━━━━━━━━━━━━ 0.4/21.7 MB 5.7 MB/s eta 0:00:04\r\u001B[2K     ━╺━━━━━━━━━━━━━━━━━━━━━━━━━━━━━━━━━━━━━━ 0.8/21.7 MB 7.5 MB/s eta 0:00:03\r\u001B[2K     ━━╺━━━━━━━━━━━━━━━━━━━━━━━━━━━━━━━━━━━━━ 1.3/21.7 MB 9.0 MB/s eta 0:00:03\r\u001B[2K     ━━━╸━━━━━━━━━━━━━━━━━━━━━━━━━━━━━━━━━━━━ 2.0/21.7 MB 11.2 MB/s eta 0:00:02\r\u001B[2K     ━━━━━╺━━━━━━━━━━━━━━━━━━━━━━━━━━━━━━━━━━ 2.9/21.7 MB 13.5 MB/s eta 0:00:02\r\u001B[2K     ━━━━━━━╺━━━━━━━━━━━━━━━━━━━━━━━━━━━━━━━━ 4.0/21.7 MB 16.4 MB/s eta 0:00:02\r\u001B[2K     ━━━━━━━━━━╺━━━━━━━━━━━━━━━━━━━━━━━━━━━━━ 5.6/21.7 MB 19.8 MB/s eta 0:00:01\r\u001B[2K     ━━━━━━━━━━━━━╸━━━━━━━━━━━━━━━━━━━━━━━━━━ 7.6/21.7 MB 23.9 MB/s eta 0:00:01\r\u001B[2K     ━━━━━━━━━━━━━━━━━━━╺━━━━━━━━━━━━━━━━━━━━ 10.4/21.7 MB 32.5 MB/s eta 0:00:01\r\u001B[2K     ━━━━━━━━━━━━━━━━━━━━━━━━━╺━━━━━━━━━━━━━━ 13.6/21.7 MB 64.6 MB/s eta 0:00:01\r\u001B[2K     ━━━━━━━━━━━━━━━━━━━━━━━━━━━━━━━╺━━━━━━━━ 16.9/21.7 MB 83.1 MB/s eta 0:00:01\r\u001B[2K     ━━━━━━━━━━━━━━━━━━━━━━━━━━━━━━━━━━━━━━╺━ 20.7/21.7 MB 98.0 MB/s eta 0:00:01\r\u001B[2K     ━━━━━━━━━━━━━━━━━━━━━━━━━━━━━━━━━━━━━━━╸ 21.7/21.7 MB 97.1 MB/s eta 0:00:01\r\u001B[2K     ━━━━━━━━━━━━━━━━━━━━━━━━━━━━━━━━━━━━━━━╸ 21.7/21.7 MB 97.1 MB/s eta 0:00:01\r\u001B[2K     ━━━━━━━━━━━━━━━━━━━━━━━━━━━━━━━━━━━━━━━╸ 21.7/21.7 MB 97.1 MB/s eta 0:00:01\r\u001B[2K     ━━━━━━━━━━━━━━━━━━━━━━━━━━━━━━━━━━━━━━━╸ 21.7/21.7 MB 97.1 MB/s eta 0:00:01\r\u001B[2K     ━━━━━━━━━━━━━━━━━━━━━━━━━━━━━━━━━━━━━━━╸ 21.7/21.7 MB 97.1 MB/s eta 0:00:01\r\u001B[2K     ━━━━━━━━━━━━━━━━━━━━━━━━━━━━━━━━━━━━━━━╸ 21.7/21.7 MB 97.1 MB/s eta 0:00:01\r\u001B[2K     ━━━━━━━━━━━━━━━━━━━━━━━━━━━━━━━━━━━━━━━╸ 21.7/21.7 MB 97.1 MB/s eta 0:00:01\r\u001B[2K     ━━━━━━━━━━━━━━━━━━━━━━━━━━━━━━━━━━━━━━━━ 21.7/21.7 MB 27.6 MB/s eta 0:00:00\r\u001B[0m\n\u001B[0;31m\u001B[?25hRequirement already satisfied: scipy<2.0.0,>=1.2 in /databricks/python3/lib/python3.10/site-packages (from sktime) (1.9.1)\r\u001B[0m\n\u001B[0;31mRequirement already satisfied: scikit-learn<1.4.0,>=0.24 in /databricks/python3/lib/python3.10/site-packages (from sktime) (1.1.1)\r\u001B[0m\n\u001B[0;31mRequirement already satisfied: pandas<2.2.0,>=1.1 in /databricks/python3/lib/python3.10/site-packages (from sktime) (1.4.4)\r\u001B[0m\n\u001B[0;31mCollecting scikit-base<0.7.0\r\u001B[0m\n\u001B[0;31m  Downloading scikit_base-0.6.2-py3-none-any.whl (122 kB)\r\u001B[0m\n\u001B[0;31m\u001B[?25l     ━━━━━━━━━━━━━━━━━━━━━━━━━━━━━━━━━━━━━━━━ 0.0/122.9 kB ? eta -:--:--\r\u001B[2K     ━━━━━━━━━━━━━━━━━━━━━━━━━━━━━━━━━━━━━━ 122.9/122.9 kB 12.2 MB/s eta 0:00:00\r\u001B[0m\n\u001B[0;31m\u001B[?25hRequirement already satisfied: packaging in /databricks/python3/lib/python3.10/site-packages (from sktime) (21.3)\r\u001B[0m\n\u001B[0;31mRequirement already satisfied: numpy<1.27,>=1.21 in /databricks/python3/lib/python3.10/site-packages (from sktime) (1.21.5)\r\u001B[0m\n\u001B[0;31mRequirement already satisfied: python-dateutil>=2.8.1 in /databricks/python3/lib/python3.10/site-packages (from pandas<2.2.0,>=1.1->sktime) (2.8.2)\r\u001B[0m\n\u001B[0;31mRequirement already satisfied: pytz>=2020.1 in /databricks/python3/lib/python3.10/site-packages (from pandas<2.2.0,>=1.1->sktime) (2022.1)\r\u001B[0m\n\u001B[0;31mRequirement already satisfied: joblib>=1.0.0 in /databricks/python3/lib/python3.10/site-packages (from scikit-learn<1.4.0,>=0.24->sktime) (1.2.0)\r\u001B[0m\n\u001B[0;31mRequirement already satisfied: threadpoolctl>=2.0.0 in /databricks/python3/lib/python3.10/site-packages (from scikit-learn<1.4.0,>=0.24->sktime) (2.2.0)\r\u001B[0m\n\u001B[0;31mRequirement already satisfied: pyparsing!=3.0.5,>=2.0.2 in /databricks/python3/lib/python3.10/site-packages (from packaging->sktime) (3.0.9)\r\u001B[0m\n\u001B[0;31mRequirement already satisfied: six>=1.5 in /usr/lib/python3/dist-packages (from python-dateutil>=2.8.1->pandas<2.2.0,>=1.1->sktime) (1.16.0)\r\u001B[0m\n\u001B[0;31mInstalling collected packages: scikit-base, sktime\r\u001B[0m\n\u001B[0;31mSuccessfully installed scikit-base-0.6.2 sktime-0.25.0\r\u001B[0m\n\u001B[0;31m\r\u001B[0m\n\u001B[0;31m[notice] A new release of pip available: 22.2.2 -> 23.3.2\r\u001B[0m\n\u001B[0;31m[notice] To update, run: pip install --upgrade pip\r\u001B[0m\n\u001B[0;31mRequirement already satisfied: scikit-learn in /databricks/python3/lib/python3.10/site-packages (1.1.1)\r\u001B[0m\n\u001B[0;31mRequirement already satisfied: scipy>=1.3.2 in /databricks/python3/lib/python3.10/site-packages (from scikit-learn) (1.9.1)\r\u001B[0m\n\u001B[0;31mRequirement already satisfied: threadpoolctl>=2.0.0 in /databricks/python3/lib/python3.10/site-packages (from scikit-learn) (2.2.0)\r\u001B[0m\n\u001B[0;31mRequirement already satisfied: joblib>=1.0.0 in /databricks/python3/lib/python3.10/site-packages (from scikit-learn) (1.2.0)\r\u001B[0m\n\u001B[0;31mRequirement already satisfied: numpy>=1.17.3 in /databricks/python3/lib/python3.10/site-packages (from scikit-learn) (1.21.5)\r\u001B[0m\n\u001B[0;31m\r\u001B[0m\n\u001B[0;31m[notice] A new release of pip available: 22.2.2 -> 23.3.2\r\u001B[0m\n\u001B[0;31m[notice] To update, run: pip install --upgrade pip\r\u001B[0m\n\u001B[0;31m[LightGBM] [Warning] Unknown parameter: colnampes_bytree\u001B[0m",
       "errorSummary": "<span class='ansi-red-fg'>Fatal error</span>: The Python kernel is unresponsive.",
       "errorTraceType": "ansi",
       "metadata": {},
       "type": "ipynbError"
      }
     },
     "output_type": "display_data"
    }
   ],
   "source": [
    "lgbm_mod = lgbm.LGBMClassifier(n_estimators = 2000, #number of boosing iterations\n",
    "                               num_leaves = 150, \n",
    "                               max_depth = 100,\n",
    "                               min_child_samples = 500, \n",
    "                               #reg_lambda = 0.1, \n",
    "                               colsample_bytree= 0.75, \n",
    "                               random_state=123,\n",
    "                               is_unbalance = True)\n",
    "\n",
    "lgbm_mod.fit(X_train_tran,y_train,eval_metric=\"PRAUC\")"
   ]
  },
  {
   "cell_type": "code",
   "execution_count": 0,
   "metadata": {
    "application/vnd.databricks.v1+cell": {
     "cellMetadata": {
      "byteLimit": 2048000,
      "rowLimit": 10000
     },
     "inputWidgets": {},
     "nuid": "a4fcd66d-7d0b-4be7-ad47-4d0fa5f02f2d",
     "showTitle": false,
     "tableResultSettingsMap": {},
     "title": ""
    }
   },
   "outputs": [],
   "source": [
    "from sktime.utils import mlflow_sktime\n",
    "\n",
    "file_path = 'path_to_file' "
   ]
  },
  {
   "cell_type": "code",
   "execution_count": 0,
   "metadata": {
    "application/vnd.databricks.v1+cell": {
     "cellMetadata": {
      "byteLimit": 2048000,
      "rowLimit": 10000
     },
     "inputWidgets": {},
     "nuid": "631fb92f-4533-4abb-9a93-3c6e5de9dfcb",
     "showTitle": false,
     "tableResultSettingsMap": {},
     "title": ""
    }
   },
   "outputs": [
    {
     "output_type": "display_data",
     "data": {
      "text/plain": [
       "\u001B[0;31m---------------------------------------------------------------------------\u001B[0m\n",
       "\u001B[0;31mNameError\u001B[0m                                 Traceback (most recent call last)\n",
       "File \u001B[0;32m<command-1702104643796391>, line 2\u001B[0m\n",
       "\u001B[1;32m      1\u001B[0m \u001B[38;5;66;03m#Save via sklearn\u001B[39;00m\n",
       "\u001B[0;32m----> 2\u001B[0m mlflow\u001B[38;5;241m.\u001B[39msklearn\u001B[38;5;241m.\u001B[39msave_model(\u001B[43mlgbm_mod\u001B[49m,file_path)\n",
       "\n",
       "\u001B[0;31mNameError\u001B[0m: name 'lgbm_mod' is not defined"
      ]
     },
     "metadata": {
      "application/vnd.databricks.v1+output": {
       "arguments": {},
       "data": "\u001B[0;31m---------------------------------------------------------------------------\u001B[0m\n\u001B[0;31mNameError\u001B[0m                                 Traceback (most recent call last)\nFile \u001B[0;32m<command-1702104643796391>, line 2\u001B[0m\n\u001B[1;32m      1\u001B[0m \u001B[38;5;66;03m#Save via sklearn\u001B[39;00m\n\u001B[0;32m----> 2\u001B[0m mlflow\u001B[38;5;241m.\u001B[39msklearn\u001B[38;5;241m.\u001B[39msave_model(\u001B[43mlgbm_mod\u001B[49m,file_path)\n\n\u001B[0;31mNameError\u001B[0m: name 'lgbm_mod' is not defined",
       "errorSummary": "<span class='ansi-red-fg'>NameError</span>: name 'lgbm_mod' is not defined",
       "errorTraceType": "ansi",
       "metadata": {},
       "type": "ipynbError"
      }
     },
     "output_type": "display_data"
    }
   ],
   "source": [
    "#Save via sklearn\n",
    "mlflow.sklearn.save_model(lgbm_mod,file_path)"
   ]
  }
 ],
 "metadata": {
  "application/vnd.databricks.v1+notebook": {
   "computePreferences": null,
   "dashboards": [],
   "environmentMetadata": null,
   "inputWidgetPreferences": null,
   "language": "python",
   "notebookMetadata": {
    "mostRecentlyExecutedCommandWithImplicitDF": {
     "commandId": -1,
     "dataframes": [
      "_sqldf"
     ]
    },
    "pythonIndentUnit": 2
   },
   "notebookName": "TS_Models_cln",
   "widgets": {}
  },
  "language_info": {
   "name": "python"
  }
 },
 "nbformat": 4,
 "nbformat_minor": 0
}